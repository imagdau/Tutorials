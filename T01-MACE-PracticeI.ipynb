{
 "cells": [
  {
   "cell_type": "markdown",
   "metadata": {},
   "source": [
    "# MACE in Practice I"
   ]
  },
  {
   "cell_type": "markdown",
   "metadata": {
    "cell_id": "95057ab91ce54145b569a1b35cc81742",
    "deepnote_cell_type": "markdown",
    "tags": []
   },
   "source": [
    "In this tutorial, you will learn how to fit and test a `MACE` model (Message Passing Neural Network), which is a highly accurate and efficient MLIP (Machine Learnt Interatomic Potential). The training/testing techniques we show here, however, are broadly applicable to all MLIPs. You can independently learn about MACE by studying the [original method paper](https://proceedings.neurips.cc/paper_files/paper/2022/file/4a36c3c51af11ed9f34615b81edb5bbc-Paper-Conference.pdf). MACE was developed by unifying the Atomic Cluster Expansion (ACE) approach with the Neural Equivariant Interatomic Potentials (NequIP). The mathematical formalism which unifies these methods is explained in the [accompaning paper](https://doi.org/10.48550/arXiv.2205.06643). Another [useful reference](https://doi.org/10.48550/arXiv.2305.14247) showcases the method's performance on published benchmark datasets. The [code implementation](https://github.com/ACEsuit/mace) is publically available and [here](https://mace-docs.readthedocs.io/en/latest/) you can find the documentation.\n",
    "\n",
    "## Learning Objectives for today:\n",
    "\n",
    "1. **Understanding the data: diverse configs, reference labels**\n",
    "2. **Understanding MACE parameters: architecture and training**\n",
    "3. **Fitting and testing MACE models**\n",
    "4. **Ultimate goal: stable and accurate Molecular Dynamics**\n",
    "5. **Iterative Training: improving stability and accuracy**"
   ]
  },
  {
   "cell_type": "markdown",
   "metadata": {},
   "source": [
    "## 1. Understanding the Data"
   ]
  },
  {
   "cell_type": "markdown",
   "metadata": {},
   "source": [
    "Understanding the data is a crucial part of fitting an MLIP. Most models will underperform at first, often because of insufficiently representative data.\n",
    "In this application, we will develop an MLIP for molecular liquids of carbonates. The data comprises a mixture of 6 different types of molecules: cyclic carbonates (Vinylene carbonate VC, Ethylene carbonate EC, Propylene carbonate PC) and linear carbonates (Dimethyl carbonate DMC, Ethyl Methyl Carbonate EMC, Diethyl carbonate DEC). Mixtures of these molecules in various formulations are used as solvents in Li-ion battery electrolytes."
   ]
  },
  {
   "cell_type": "code",
   "execution_count": 17,
   "metadata": {},
   "outputs": [
    {
     "data": {
      "image/png": "[encoded data removed]",
      "text/plain": [
       "<IPython.core.display.Image object>"
      ]
     },
     "execution_count": 17,
     "metadata": {},
     "output_type": "execute_result"
    }
   ],
   "source": [
    "from rdkit import Chem\n",
    "from rdkit.Chem import Draw\n",
    "\n",
    "# SMILES strings for each molecule\n",
    "sm_dict = {\n",
    "    'VC': 'c1coc(=O)o1',\n",
    "    'EC': 'C1COC(=O)O1',\n",
    "    'PC': 'CC1COC(=O)O1',\n",
    "    'DMC': 'COC(=O)OC',\n",
    "    'EMC': 'CCOC(=O)OC',\n",
    "    'DEC': 'CCOC(=O)OCC'\n",
    "}\n",
    "\n",
    "Draw.MolsToGridImage([Chem.MolFromSmiles(sm_dict[mol]) for mol in sm_dict], legends=list(sm_dict.keys()))"
   ]
  },
  {
   "cell_type": "markdown",
   "metadata": {},
   "source": [
    "For this tutorial, we prepared in advance a collection of atomic configurations - let's understand the data! We start by loading the raw configurations with no `labels` (energy, forces). The atomic `configurations`are stored in the [extxyz](https://wiki.fysik.dtu.dk/ase/ase/io/formatoptions.html#extxyz) format and can be accessed using [ASE](https://wiki.fysik.dtu.dk/ase/index.html) as shown below:"
   ]
  },
  {
   "cell_type": "code",
   "execution_count": 9,
   "metadata": {},
   "outputs": [
    {
     "name": "stdout",
     "output_type": "stream",
     "text": [
      "Number of configs in database:  5000\n",
      "Number of atoms in each config:  [24 22 25 ... 25 32 40]\n",
      "Number of atoms in the smallest config:  8\n",
      "Information stored in typical config:  {} {'numbers': array([6, 8, 6, 8, 6, 1, 1, 8, 1, 1, 6, 8, 8, 8, 6, 6, 6, 1, 1, 6, 1, 1,\n",
      "       1, 1, 1, 1, 1, 1]), 'positions': array([[ 2.42930269,  5.21925545, -2.44555688],\n",
      "       [ 1.36888075,  4.36736107, -3.07848001],\n",
      "       [ 1.0430907 ,  3.33270121, -2.205446  ],\n",
      "       [ 1.83499873,  3.2705152 , -1.20140588],\n",
      "       [ 2.83662271,  4.2916441 , -1.29654086],\n",
      "       [ 3.20092463,  5.52685308, -3.12019396],\n",
      "       [ 1.98896468,  6.07220507, -2.07261896],\n",
      "       [ 0.15712669,  2.55914021, -2.58440089],\n",
      "       [ 3.80655074,  3.73805737, -1.62337792],\n",
      "       [ 3.03487277,  4.82053137, -0.40139091],\n",
      "       [-1.35643137, -2.96665978,  1.35700715],\n",
      "       [-1.21188033, -2.7462728 ,  0.1501831 ],\n",
      "       [-0.54117233, -3.68505168,  2.08627701],\n",
      "       [-2.42475724, -2.65949082,  2.02500916],\n",
      "       [ 0.77742571, -4.09808683,  1.66831815],\n",
      "       [-3.53945827, -1.88707876,  1.42200315],\n",
      "       [ 1.73322475, -4.50847292,  2.87280703],\n",
      "       [ 0.66669869, -4.92906666,  0.76705009],\n",
      "       [ 1.3917917 , -3.23983574,  1.1674931 ],\n",
      "       [-3.06572843, -0.32736671,  1.23231006],\n",
      "       [-3.63455939, -2.22064781,  0.3318561 ],\n",
      "       [-4.44695711, -2.07443976,  2.06374216],\n",
      "       [-4.00157547,  0.09648129,  0.88270313],\n",
      "       [-2.76880741, -0.07249171,  2.23861504],\n",
      "       [-2.29997635, -0.1477067 ,  0.5424301 ],\n",
      "       [ 2.7102387 , -4.80586767,  2.51738405],\n",
      "       [ 1.87028074, -3.73427963,  3.67782402],\n",
      "       [ 1.22818565, -5.34521389,  3.32096505]])}\n"
     ]
    }
   ],
   "source": [
    "from ase.io import read, write\n",
    "import numpy as np\n",
    "\n",
    "db = read('data/solvent_configs.xyz', ':') #read in list of configs\n",
    "\n",
    "print(\"Number of configs in database: \", len(db))\n",
    "print(\"Number of atoms in each config: \", np.array([len(at) for at in db]))\n",
    "print(\"Number of atoms in the smallest config: \", np.min([len(at) for at in db])) #test if database contains isolated atoms\n",
    "print(\"Information stored in typical config: \", db[10].info, db[10].arrays)"
   ]
  },
  {
   "cell_type": "code",
   "execution_count": 4,
   "metadata": {},
   "outputs": [
    {
     "ename": "NameError",
     "evalue": "name 'view' is not defined",
     "output_type": "error",
     "traceback": [
      "\u001b[0;31m---------------------------------------------------------------------------\u001b[0m",
      "\u001b[0;31mNameError\u001b[0m                                 Traceback (most recent call last)",
      "Cell \u001b[0;32mIn[4], line 16\u001b[0m\n\u001b[1;32m     13\u001b[0m view1\u001b[38;5;241m.\u001b[39m_remote_call(\u001b[38;5;124m'\u001b[39m\u001b[38;5;124msetSize\u001b[39m\u001b[38;5;124m'\u001b[39m, target\u001b[38;5;241m=\u001b[39m\u001b[38;5;124m'\u001b[39m\u001b[38;5;124mWidget\u001b[39m\u001b[38;5;124m'\u001b[39m, args\u001b[38;5;241m=\u001b[39m[\u001b[38;5;124m'\u001b[39m\u001b[38;5;124m400px\u001b[39m\u001b[38;5;124m'\u001b[39m, \u001b[38;5;124m'\u001b[39m\u001b[38;5;124m400px\u001b[39m\u001b[38;5;124m'\u001b[39m])\n\u001b[1;32m     14\u001b[0m view2\u001b[38;5;241m.\u001b[39m_remote_call(\u001b[38;5;124m'\u001b[39m\u001b[38;5;124msetSize\u001b[39m\u001b[38;5;124m'\u001b[39m, target\u001b[38;5;241m=\u001b[39m\u001b[38;5;124m'\u001b[39m\u001b[38;5;124mWidget\u001b[39m\u001b[38;5;124m'\u001b[39m, args\u001b[38;5;241m=\u001b[39m[\u001b[38;5;124m'\u001b[39m\u001b[38;5;124m400px\u001b[39m\u001b[38;5;124m'\u001b[39m, \u001b[38;5;124m'\u001b[39m\u001b[38;5;124m400px\u001b[39m\u001b[38;5;124m'\u001b[39m])\n\u001b[0;32m---> 16\u001b[0m \u001b[43mview\u001b[49m([at1,at2])\n",
      "\u001b[0;31mNameError\u001b[0m: name 'view' is not defined"
     ]
    }
   ],
   "source": [
    "import nglview as nv\n",
    "from ase.build import molecule\n",
    "\n",
    "# Create methane and water molecules\n",
    "at1 = molecule('CH4')\n",
    "at2 = molecule('H2O')\n",
    "\n",
    "# Create NGLView widgets for the molecules\n",
    "view1 = nv.show_ase(at1)\n",
    "view2 = nv.show_ase(at2)\n",
    "\n",
    "# Display the molecules side by side\n",
    "view1._remote_call('setSize', target='Widget', args=['400px', '400px'])\n",
    "view2._remote_call('setSize', target='Widget', args=['400px', '400px'])\n",
    "\n",
    "view([at1,at2])"
   ]
  },
  {
   "cell_type": "code",
   "execution_count": 17,
   "metadata": {},
   "outputs": [
    {
     "data": {
      "application/vnd.jupyter.widget-view+json": {
       "model_id": "e70022a3e9b042cab549ea2f3aec413d",
       "version_major": 2,
       "version_minor": 0
      },
      "text/plain": [
       "NGLWidget()"
      ]
     },
     "metadata": {},
     "output_type": "display_data"
    }
   ],
   "source": [
    "import nglview as nv\n",
    "from ase import Atoms\n",
    "\n",
    "db = read('data/solvent_configs.xyz', ':10') #read in list of configs\n",
    "v = nv.NGLWidget()\n",
    "\n",
    "for frame_index in range(len(db)):\n",
    "  # Get current frame atoms\n",
    "  atoms = db[frame_index]\n",
    "\n",
    "  # Clear previous representation (optional for efficiency)\n",
    "  v.clear_representations()\n",
    "\n",
    "  # Add representation based on atom information\n",
    "  \n",
    "  v.add_ball_and_stick(elements=atoms.get_chemical_symbols(), positions=atoms.get_positions())\n",
    "\n",
    "# (Optional) Display the final frame\n",
    "# v.frame = len(db) - 1\n",
    "v"
   ]
  },
  {
   "cell_type": "code",
   "execution_count": 24,
   "metadata": {},
   "outputs": [
    {
     "data": {
      "application/vnd.jupyter.widget-view+json": {
       "model_id": "3524c5aeee654e86977886e6f9ac2afd",
       "version_major": 2,
       "version_minor": 0
      },
      "text/plain": [
       "NGLWidget(frame=9, max_frame=9)"
      ]
     },
     "metadata": {},
     "output_type": "display_data"
    }
   ],
   "source": [
    "import nglview as nv\n",
    "from ase import Atoms\n",
    "\n",
    "# Load your trajectory\n",
    "trajectory = read('data/solvent_configs.xyz', ':10')  # Replace with your trajectory loading method\n",
    "\n",
    "# Create NGLview viewer and initial representation\n",
    "v = nv.show_asetraj(trajectory)\n",
    "\n",
    "for frame_index in range(1, len(trajectory)):\n",
    "  # Update atom positions\n",
    "  # v.molecular_assembly.coordinates = trajectory[frame_index].get_positions()\n",
    "\n",
    "  # Update atom information (optional)\n",
    "  v.update_representation(data={'elements': trajectory[frame_index].get_chemical_symbols()})  \n",
    "\n",
    "  # Update view (optional)\n",
    "  # v.update()\n",
    "\n",
    "# (Optional) Display the final frame\n",
    "v.frame = len(trajectory) - 1\n",
    "v"
   ]
  },
  {
   "cell_type": "code",
   "execution_count": 281,
   "metadata": {},
   "outputs": [],
   "source": [
    "from ase.io import write\n",
    "\n",
    "db = read('data/solvent_configs.xyz', '10') #read in list of configs\n",
    "write('test.pdb', db)"
   ]
  },
  {
   "cell_type": "code",
   "execution_count": 278,
   "metadata": {},
   "outputs": [
    {
     "data": {
      "text/plain": [
       "{'numbers': array([6, 6, 8, 6, 8, 8, 1, 1, 6, 6, 8, 6, 8, 8, 1, 1, 6, 6, 8, 6, 8, 8,\n",
       "        1, 1]),\n",
       " 'positions': array([[ 0.45285612,  3.01426506, -2.32330513],\n",
       "        [-0.65326887,  3.3203609 , -1.70732403],\n",
       "        [-0.82637185,  2.63587189, -0.55307001],\n",
       "        [ 0.26635113,  1.80842292, -0.42423803],\n",
       "        [ 0.50404215,  1.07012391,  0.477305  ],\n",
       "        [ 1.20395112,  2.09938192, -1.540591  ],\n",
       "        [ 0.99488211,  3.42258286, -3.19497991],\n",
       "        [-1.42996383,  3.95062685, -2.1258359 ],\n",
       "        [ 1.26803315,  0.08491497,  2.52308202],\n",
       "        [ 0.71784115, -0.92897701,  3.20788789],\n",
       "        [ 0.6455251 , -2.02956414,  2.40690088],\n",
       "        [ 1.62233818, -1.828076  ,  1.46278298],\n",
       "        [ 2.07954812, -2.65240097,  0.69964898],\n",
       "        [ 1.90033615, -0.53814703,  1.52785194],\n",
       "        [ 1.60973608,  0.97362196,  3.01618791],\n",
       "        [-0.23638988, -0.89091206,  3.98334789],\n",
       "        [-2.61711597, -1.50253499,  0.01472599],\n",
       "        [-1.65134692, -2.33284712, -0.232002  ],\n",
       "        [-0.75461686, -1.64041007, -1.12287402],\n",
       "        [-1.23930693, -0.42871904, -1.39447701],\n",
       "        [-0.76134789,  0.30777997, -2.22421694],\n",
       "        [-2.37302589, -0.32890302, -0.691239  ],\n",
       "        [-3.27383399, -1.43262005,  0.79540098],\n",
       "        [-1.51131582, -3.31143308,  0.29795   ]])}"
      ]
     },
     "execution_count": 278,
     "metadata": {},
     "output_type": "execute_result"
    }
   ],
   "source": [
    "db[0].arrays"
   ]
  },
  {
   "cell_type": "markdown",
   "metadata": {},
   "source": [
    "**Questions:**\n",
    "1. How many configurations in total?\n",
    "2. "
   ]
  },
  {
   "cell_type": "markdown",
   "metadata": {},
   "source": [
    "At this point each configuration is a collection of atoms: Z number and positions, with no additional information. Let's identify the molecules and label molecular clusters. This will make it easier to inspect the data set and, later, test the accuracy of the potential on describing inter-molecular interactions.\n",
    "The code takes about `4 min` to run, you can avoid this by commenting out the code block which identifies molecules and simply loading the processed data."
   ]
  },
  {
   "cell_type": "code",
   "execution_count": 20,
   "metadata": {},
   "outputs": [
    {
     "name": "stdout",
     "output_type": "stream",
     "text": [
      "Information stored in typical config:  {'Nmols': 2, 'Comp': 'DEC(1):EC(1)'} {'numbers': array([6, 8, 6, 8, 6, 1, 1, 8, 1, 1, 6, 8, 8, 8, 6, 6, 6, 1, 1, 6, 1, 1,\n",
      "       1, 1, 1, 1, 1, 1]), 'positions': array([[ 2.42930269,  5.21925545, -2.44555688],\n",
      "       [ 1.36888075,  4.36736107, -3.07848001],\n",
      "       [ 1.0430907 ,  3.33270121, -2.205446  ],\n",
      "       [ 1.83499873,  3.2705152 , -1.20140588],\n",
      "       [ 2.83662271,  4.2916441 , -1.29654086],\n",
      "       [ 3.20092463,  5.52685308, -3.12019396],\n",
      "       [ 1.98896468,  6.07220507, -2.07261896],\n",
      "       [ 0.15712669,  2.55914021, -2.58440089],\n",
      "       [ 3.80655074,  3.73805737, -1.62337792],\n",
      "       [ 3.03487277,  4.82053137, -0.40139091],\n",
      "       [-1.35643137, -2.96665978,  1.35700715],\n",
      "       [-1.21188033, -2.7462728 ,  0.1501831 ],\n",
      "       [-0.54117233, -3.68505168,  2.08627701],\n",
      "       [-2.42475724, -2.65949082,  2.02500916],\n",
      "       [ 0.77742571, -4.09808683,  1.66831815],\n",
      "       [-3.53945827, -1.88707876,  1.42200315],\n",
      "       [ 1.73322475, -4.50847292,  2.87280703],\n",
      "       [ 0.66669869, -4.92906666,  0.76705009],\n",
      "       [ 1.3917917 , -3.23983574,  1.1674931 ],\n",
      "       [-3.06572843, -0.32736671,  1.23231006],\n",
      "       [-3.63455939, -2.22064781,  0.3318561 ],\n",
      "       [-4.44695711, -2.07443976,  2.06374216],\n",
      "       [-4.00157547,  0.09648129,  0.88270313],\n",
      "       [-2.76880741, -0.07249171,  2.23861504],\n",
      "       [-2.29997635, -0.1477067 ,  0.5424301 ],\n",
      "       [ 2.7102387 , -4.80586767,  2.51738405],\n",
      "       [ 1.87028074, -3.73427963,  3.67782402],\n",
      "       [ 1.22818565, -5.34521389,  3.32096505]]), 'molID': array([0, 0, 0, 0, 0, 0, 0, 0, 0, 0, 1, 1, 1, 1, 1, 1, 1, 1, 1, 1, 1, 1,\n",
      "       1, 1, 1, 1, 1, 1], dtype=int32)}\n"
     ]
    }
   ],
   "source": [
    "from aseMolec import anaAtoms as aa\n",
    "\n",
    "aa.wrap_molecs(db[:100], prog=False) #identify molecules and label molecular clusters, first 100 frames\n",
    "print(\"Information stored in typical config: \", db[10].info, db[10].arrays) #check the information"
   ]
  },
  {
   "cell_type": "markdown",
   "metadata": {},
   "source": [
    "This procedure created new information for each atomic config: number of molecules `Nmols`, molecular composition `Comp` (e.g `DEC(1):EC(1)` means the config comprises a dimer with 1 DEC molecule and 1 EC molecule) and molecular ID `molID`.\n",
    "\n",
    "There are 5000 configs in total, let us inspect what is the distribution of configs by number of molecules present:"
   ]
  },
  {
   "cell_type": "code",
   "execution_count": 15,
   "metadata": {},
   "outputs": [
    {
     "data": {
      "image/png": "[encoded data removed]",
      "text/plain": [
       "<Figure size 640x480 with 1 Axes>"
      ]
     },
     "metadata": {},
     "output_type": "display_data"
    }
   ],
   "source": [
    "from matplotlib import pyplot as plt\n",
    "\n",
    "db = read('data/solvent_molecs.xyz', ':')\n",
    "Nmols = np.array([at.info['Nmols'] for at in db]) #collect Nmols information across all data\n",
    "plt.hist(Nmols, align='left', bins=[1,2,3,4,5,6,7], rwidth=0.8);\n",
    "plt.xlabel('# Molecs');\n",
    "plt.ylabel('# Configs comprising that # Molecs');"
   ]
  },
  {
   "cell_type": "markdown",
   "metadata": {},
   "source": [
    "There are just under 1000 configs of single molecules and more than 2000 dimers. The largest configs contain clusters of six molecules.\n",
    "\n",
    "We can check the distribution of molecular compositions for each cluster size:"
   ]
  },
  {
   "cell_type": "code",
   "execution_count": 16,
   "metadata": {},
   "outputs": [
    {
     "data": {
      "image/png": "[encoded data removed]",
      "text/plain": [
       "<Figure size 640x480 with 1 Axes>"
      ]
     },
     "metadata": {},
     "output_type": "display_data"
    }
   ],
   "source": [
    "from aseMolec import extAtoms as ea\n",
    "from collections import Counter\n",
    "\n",
    "comp_dict = {} #create a dictionary of compositions for each cluster size\n",
    "for Nmol in range(1,7):\n",
    "    comp_dict[Nmol] = dict(Counter([at.info['Comp'] for at in ea.sel_by_info_val(db, 'Nmols', Nmol)]))\n",
    "\n",
    "Nmol = 2 #show distribution of compositions for cluster size 6\n",
    "\n",
    "plt.pie(comp_dict[Nmol].values(), labels=comp_dict[Nmol].keys(),\n",
    "        explode=10/(25+np.array(list(comp_dict[Nmol].values()))), rotatelabels =True);\n"
   ]
  },
  {
   "cell_type": "markdown",
   "metadata": {},
   "source": [
    "The training set is quite diverse and it contains a good mix of compositions. Check the distribution for other cluster sizes: `Nmol = 1, 2, 3, 4, 5`. Find out if all isolated molecules are present and well sampled. We have six molecules, so there should be 6x6 dimers present, are all dimers sampled?"
   ]
  },
  {
   "cell_type": "markdown",
   "metadata": {},
   "source": [
    "# Labeling Data with XTB Values"
   ]
  },
  {
   "cell_type": "markdown",
   "metadata": {},
   "source": [
    "We convinced ourselves the training set is quite diverse, it samples many compositions and molecular cluster sizes. It is time to prepare the reference data (energies, forces) to learn from. We will do this using the Semiempirical Tight Binding level of theory with [XTB](https://xtb-docs.readthedocs.io/en/latest/contents.html). This may be less accurate than other methods specialized for these systems, but it is fast and it will later allow us to test MLIP errors on-the-fly.\n",
    "\n",
    "Notice the data set contains isolated molecules but no isolated atoms. GAP (and MLIPs in general) fits to atomization energies (eV), so we need to provide the energy of each atom species in vacuum for reference. Let us add three frames containing Hydrogen H, Carbon C and Oxygen O."
   ]
  },
  {
   "cell_type": "code",
   "execution_count": 6,
   "metadata": {},
   "outputs": [
    {
     "name": "stdout",
     "output_type": "stream",
     "text": [
      "Number of configs in database:  5003\n"
     ]
    }
   ],
   "source": [
    "from ase import Atoms\n",
    "\n",
    "db = read('data/solvent_molecs.xyz', ':')\n",
    "db = [Atoms('H'), Atoms('C'), Atoms('O')]+db #add isolated atoms to the database\n",
    "\n",
    "for at in db[:3]:\n",
    "    at.info['config_type'] = 'IsolatedAtom' #useful for tomorrow, MACE requires this tag to find isolated atoms\n",
    "    at.cell = [20,20,20] #the data is non periodic, but GAP requires a dummy cell to find the isolated atoms\n",
    "\n",
    "print(\"Number of configs in database: \", len(db))"
   ]
  },
  {
   "cell_type": "markdown",
   "metadata": {},
   "source": [
    "Now we compute the energy and forces with XTB. This computation will take about `25 mins` for the 5003 configs. Avoid this by simply loading the already computed data. You can try yourself for a few configs and check that you are getting the same values as the preprocessed data. What is the inherent XTB precision? By how much do values actually differ?"
   ]
  },
  {
   "cell_type": "code",
   "execution_count": 13,
   "metadata": {},
   "outputs": [
    {
     "name": "stderr",
     "output_type": "stream",
     "text": [
      "0it [00:00, ?it/s]"
     ]
    },
    {
     "name": "stdout",
     "output_type": "stream",
     "text": [
      "-10.707211383396714 -10.707211383396714\n"
     ]
    },
    {
     "name": "stderr",
     "output_type": "stream",
     "text": [
      "2it [00:04,  2.50s/it]"
     ]
    },
    {
     "name": "stdout",
     "output_type": "stream",
     "text": [
      "-48.847445262804705 -48.847445262804705\n",
      "-102.57117256025786 -102.57117256025786\n"
     ]
    },
    {
     "name": "stderr",
     "output_type": "stream",
     "text": [
      "4it [00:08,  2.15s/it]"
     ]
    },
    {
     "name": "stdout",
     "output_type": "stream",
     "text": [
      "-1602.093208085045 -1602.093208085042\n"
     ]
    },
    {
     "name": "stderr",
     "output_type": "stream",
     "text": [
      "5it [00:11,  2.40s/it]"
     ]
    },
    {
     "name": "stdout",
     "output_type": "stream",
     "text": [
      "-1151.6688033579833 -1151.6688033579703\n"
     ]
    },
    {
     "name": "stderr",
     "output_type": "stream",
     "text": [
      "6it [00:15,  2.71s/it]"
     ]
    },
    {
     "name": "stdout",
     "output_type": "stream",
     "text": [
      "-1237.2372094893271 -1237.237209489243\n"
     ]
    },
    {
     "name": "stderr",
     "output_type": "stream",
     "text": [
      "7it [00:18,  2.76s/it]"
     ]
    },
    {
     "name": "stdout",
     "output_type": "stream",
     "text": [
      "-1265.1800280348236 -1265.180028034832\n"
     ]
    },
    {
     "name": "stderr",
     "output_type": "stream",
     "text": [
      "8it [00:21,  3.07s/it]"
     ]
    },
    {
     "name": "stdout",
     "output_type": "stream",
     "text": [
      "-2248.1644835302045 -2248.1644835301763\n"
     ]
    },
    {
     "name": "stderr",
     "output_type": "stream",
     "text": [
      "9it [00:24,  2.98s/it]"
     ]
    },
    {
     "name": "stdout",
     "output_type": "stream",
     "text": [
      "-1687.2692238457407 -1687.2692238458048\n"
     ]
    },
    {
     "name": "stderr",
     "output_type": "stream",
     "text": [
      "9it [00:28,  3.14s/it]\n"
     ]
    },
    {
     "ename": "KeyboardInterrupt",
     "evalue": "",
     "output_type": "error",
     "traceback": [
      "\u001b[0;31m---------------------------------------------------------------------------\u001b[0m",
      "\u001b[0;31mKeyboardInterrupt\u001b[0m                         Traceback (most recent call last)",
      "Cell \u001b[0;32mIn[13], line 9\u001b[0m\n\u001b[1;32m      7\u001b[0m \u001b[38;5;28;01mfor\u001b[39;00m at, lat \u001b[38;5;129;01min\u001b[39;00m tqdm(\u001b[38;5;28mzip\u001b[39m(db, ldb)):\n\u001b[1;32m      8\u001b[0m     at\u001b[38;5;241m.\u001b[39mcalc \u001b[38;5;241m=\u001b[39m xtb_calc\n\u001b[0;32m----> 9\u001b[0m     at\u001b[38;5;241m.\u001b[39minfo[\u001b[38;5;124m'\u001b[39m\u001b[38;5;124mref_energy\u001b[39m\u001b[38;5;124m'\u001b[39m] \u001b[38;5;241m=\u001b[39m \u001b[43mat\u001b[49m\u001b[38;5;241;43m.\u001b[39;49m\u001b[43mget_potential_energy\u001b[49m\u001b[43m(\u001b[49m\u001b[43m)\u001b[49m\n\u001b[1;32m     10\u001b[0m     at\u001b[38;5;241m.\u001b[39marrays[\u001b[38;5;124m'\u001b[39m\u001b[38;5;124mred_forces\u001b[39m\u001b[38;5;124m'\u001b[39m] \u001b[38;5;241m=\u001b[39m at\u001b[38;5;241m.\u001b[39mget_forces()\n\u001b[1;32m     11\u001b[0m     \u001b[38;5;28mprint\u001b[39m(at\u001b[38;5;241m.\u001b[39minfo[\u001b[38;5;124m'\u001b[39m\u001b[38;5;124mref_energy\u001b[39m\u001b[38;5;124m'\u001b[39m], lat\u001b[38;5;241m.\u001b[39minfo[\u001b[38;5;124m'\u001b[39m\u001b[38;5;124mref_energy\u001b[39m\u001b[38;5;124m'\u001b[39m])\n",
      "File \u001b[0;32m/opt/conda/lib/python3.10/site-packages/ase/atoms.py:755\u001b[0m, in \u001b[0;36mAtoms.get_potential_energy\u001b[0;34m(self, force_consistent, apply_constraint)\u001b[0m\n\u001b[1;32m    752\u001b[0m     energy \u001b[38;5;241m=\u001b[39m \u001b[38;5;28mself\u001b[39m\u001b[38;5;241m.\u001b[39m_calc\u001b[38;5;241m.\u001b[39mget_potential_energy(\n\u001b[1;32m    753\u001b[0m         \u001b[38;5;28mself\u001b[39m, force_consistent\u001b[38;5;241m=\u001b[39mforce_consistent)\n\u001b[1;32m    754\u001b[0m \u001b[38;5;28;01melse\u001b[39;00m:\n\u001b[0;32m--> 755\u001b[0m     energy \u001b[38;5;241m=\u001b[39m \u001b[38;5;28;43mself\u001b[39;49m\u001b[38;5;241;43m.\u001b[39;49m\u001b[43m_calc\u001b[49m\u001b[38;5;241;43m.\u001b[39;49m\u001b[43mget_potential_energy\u001b[49m\u001b[43m(\u001b[49m\u001b[38;5;28;43mself\u001b[39;49m\u001b[43m)\u001b[49m\n\u001b[1;32m    756\u001b[0m \u001b[38;5;28;01mif\u001b[39;00m apply_constraint:\n\u001b[1;32m    757\u001b[0m     \u001b[38;5;28;01mfor\u001b[39;00m constraint \u001b[38;5;129;01min\u001b[39;00m \u001b[38;5;28mself\u001b[39m\u001b[38;5;241m.\u001b[39mconstraints:\n",
      "File \u001b[0;32m/opt/conda/lib/python3.10/site-packages/ase/calculators/abc.py:24\u001b[0m, in \u001b[0;36mGetPropertiesMixin.get_potential_energy\u001b[0;34m(self, atoms, force_consistent)\u001b[0m\n\u001b[1;32m     22\u001b[0m \u001b[38;5;28;01melse\u001b[39;00m:\n\u001b[1;32m     23\u001b[0m     name \u001b[38;5;241m=\u001b[39m \u001b[38;5;124m'\u001b[39m\u001b[38;5;124menergy\u001b[39m\u001b[38;5;124m'\u001b[39m\n\u001b[0;32m---> 24\u001b[0m \u001b[38;5;28;01mreturn\u001b[39;00m \u001b[38;5;28;43mself\u001b[39;49m\u001b[38;5;241;43m.\u001b[39;49m\u001b[43mget_property\u001b[49m\u001b[43m(\u001b[49m\u001b[43mname\u001b[49m\u001b[43m,\u001b[49m\u001b[43m \u001b[49m\u001b[43matoms\u001b[49m\u001b[43m)\u001b[49m\n",
      "File \u001b[0;32m/opt/conda/lib/python3.10/site-packages/ase/calculators/calculator.py:538\u001b[0m, in \u001b[0;36mBaseCalculator.get_property\u001b[0;34m(self, name, atoms, allow_calculation)\u001b[0m\n\u001b[1;32m    535\u001b[0m     \u001b[38;5;28;01mif\u001b[39;00m \u001b[38;5;28mself\u001b[39m\u001b[38;5;241m.\u001b[39muse_cache:\n\u001b[1;32m    536\u001b[0m         \u001b[38;5;28mself\u001b[39m\u001b[38;5;241m.\u001b[39matoms \u001b[38;5;241m=\u001b[39m atoms\u001b[38;5;241m.\u001b[39mcopy()\n\u001b[0;32m--> 538\u001b[0m     \u001b[38;5;28;43mself\u001b[39;49m\u001b[38;5;241;43m.\u001b[39;49m\u001b[43mcalculate\u001b[49m\u001b[43m(\u001b[49m\u001b[43matoms\u001b[49m\u001b[43m,\u001b[49m\u001b[43m \u001b[49m\u001b[43m[\u001b[49m\u001b[43mname\u001b[49m\u001b[43m]\u001b[49m\u001b[43m,\u001b[49m\u001b[43m \u001b[49m\u001b[43msystem_changes\u001b[49m\u001b[43m)\u001b[49m\n\u001b[1;32m    540\u001b[0m \u001b[38;5;28;01mif\u001b[39;00m name \u001b[38;5;129;01mnot\u001b[39;00m \u001b[38;5;129;01min\u001b[39;00m \u001b[38;5;28mself\u001b[39m\u001b[38;5;241m.\u001b[39mresults:\n\u001b[1;32m    541\u001b[0m     \u001b[38;5;66;03m# For some reason the calculator was not able to do what we want,\u001b[39;00m\n\u001b[1;32m    542\u001b[0m     \u001b[38;5;66;03m# and that is OK.\u001b[39;00m\n\u001b[1;32m    543\u001b[0m     \u001b[38;5;28;01mraise\u001b[39;00m PropertyNotImplementedError(\n\u001b[1;32m    544\u001b[0m         \u001b[38;5;124m'\u001b[39m\u001b[38;5;132;01m{}\u001b[39;00m\u001b[38;5;124m not present in this \u001b[39m\u001b[38;5;124m'\u001b[39m \u001b[38;5;124m'\u001b[39m\u001b[38;5;124mcalculation\u001b[39m\u001b[38;5;124m'\u001b[39m\u001b[38;5;241m.\u001b[39mformat(name)\n\u001b[1;32m    545\u001b[0m     )\n",
      "File \u001b[0;32m/opt/conda/lib/python3.10/site-packages/xtb/ase/calculator.py:231\u001b[0m, in \u001b[0;36mXTB.calculate\u001b[0;34m(self, atoms, properties, system_changes)\u001b[0m\n\u001b[1;32m    228\u001b[0m     \u001b[38;5;28mself\u001b[39m\u001b[38;5;241m.\u001b[39m_xtb \u001b[38;5;241m=\u001b[39m \u001b[38;5;28mself\u001b[39m\u001b[38;5;241m.\u001b[39m_create_api_calculator()\n\u001b[1;32m    230\u001b[0m \u001b[38;5;28;01mtry\u001b[39;00m:\n\u001b[0;32m--> 231\u001b[0m     \u001b[38;5;28mself\u001b[39m\u001b[38;5;241m.\u001b[39m_res \u001b[38;5;241m=\u001b[39m \u001b[38;5;28;43mself\u001b[39;49m\u001b[38;5;241;43m.\u001b[39;49m\u001b[43m_xtb\u001b[49m\u001b[38;5;241;43m.\u001b[39;49m\u001b[43msinglepoint\u001b[49m\u001b[43m(\u001b[49m\u001b[38;5;28;43mself\u001b[39;49m\u001b[38;5;241;43m.\u001b[39;49m\u001b[43m_res\u001b[49m\u001b[43m)\u001b[49m\n\u001b[1;32m    232\u001b[0m \u001b[38;5;28;01mexcept\u001b[39;00m XTBException:\n\u001b[1;32m    233\u001b[0m     \u001b[38;5;28;01mraise\u001b[39;00m ase_calc\u001b[38;5;241m.\u001b[39mCalculationFailed(\u001b[38;5;124m\"\u001b[39m\u001b[38;5;124mxtb could not evaluate input\u001b[39m\u001b[38;5;124m\"\u001b[39m)\n",
      "File \u001b[0;32m/opt/conda/lib/python3.10/site-packages/xtb/interface.py:821\u001b[0m, in \u001b[0;36mCalculator.singlepoint\u001b[0;34m(self, res, copy)\u001b[0m\n\u001b[1;32m    818\u001b[0m \u001b[38;5;28;01melse\u001b[39;00m:\n\u001b[1;32m    819\u001b[0m     _res \u001b[38;5;241m=\u001b[39m Results(\u001b[38;5;28mself\u001b[39m)\n\u001b[0;32m--> 821\u001b[0m \u001b[43m_lib\u001b[49m\u001b[38;5;241;43m.\u001b[39;49m\u001b[43mxtb_singlepoint\u001b[49m\u001b[43m(\u001b[49m\n\u001b[1;32m    822\u001b[0m \u001b[43m    \u001b[49m\u001b[38;5;28;43mself\u001b[39;49m\u001b[38;5;241;43m.\u001b[39;49m\u001b[43m_env\u001b[49m\u001b[43m,\u001b[49m\u001b[43m \u001b[49m\u001b[38;5;28;43mself\u001b[39;49m\u001b[38;5;241;43m.\u001b[39;49m\u001b[43m_mol\u001b[49m\u001b[43m,\u001b[49m\u001b[43m \u001b[49m\u001b[38;5;28;43mself\u001b[39;49m\u001b[38;5;241;43m.\u001b[39;49m\u001b[43m_calc\u001b[49m\u001b[43m,\u001b[49m\u001b[43m \u001b[49m\u001b[43m_res\u001b[49m\u001b[38;5;241;43m.\u001b[39;49m\u001b[43m_res\u001b[49m\u001b[43m,\u001b[49m\n\u001b[1;32m    823\u001b[0m \u001b[43m\u001b[49m\u001b[43m)\u001b[49m\n\u001b[1;32m    825\u001b[0m \u001b[38;5;28;01mif\u001b[39;00m \u001b[38;5;28mself\u001b[39m\u001b[38;5;241m.\u001b[39mcheck() \u001b[38;5;241m!=\u001b[39m \u001b[38;5;241m0\u001b[39m:\n\u001b[1;32m    826\u001b[0m     \u001b[38;5;28;01mraise\u001b[39;00m XTBException(\u001b[38;5;28mself\u001b[39m\u001b[38;5;241m.\u001b[39mget_error(\u001b[38;5;124m\"\u001b[39m\u001b[38;5;124mSingle point calculation failed\u001b[39m\u001b[38;5;124m\"\u001b[39m))\n",
      "\u001b[0;31mKeyboardInterrupt\u001b[0m: "
     ]
    }
   ],
   "source": [
    "from xtb.ase.calculator import XTB\n",
    "xtb_calc = XTB(method=\"GFN2-xTB\")\n",
    "from tqdm import tqdm\n",
    "\n",
    "ldb = read('data/solvent_xtb.xyz', ':')\n",
    "\n",
    "for at, lat in tqdm(zip(db, ldb)):\n",
    "    at.calc = xtb_calc\n",
    "    at.info['ref_energy'] = at.get_potential_energy()\n",
    "    at.arrays['red_forces'] = at.get_forces()\n",
    "    print(at.info['ref_energy'], lat.info['ref_energy'])\n",
    "    at.calc = None\n",
    "# write('data/solvent_xtb.xyz', db)\n",
    "\n",
    "# db = read('data/solvent_xtb.xyz', ':')\n",
    "# print(\"Information stored in typical config: \", db[100].info, db[100].arrays) #check the information"
   ]
  },
  {
   "cell_type": "markdown",
   "metadata": {},
   "source": [
    "The data now contains one energy value for each config `energy` and the `force` on each atom.\n",
    "We also have isolated atom energies so we can check atomization energies per atom. This is not a prerequisite for GAP fitting, since GAP will do this internally. It is simply a sanity check:"
   ]
  },
  {
   "cell_type": "code",
   "execution_count": null,
   "metadata": {},
   "outputs": [],
   "source": [
    "ea.get_prop(db, 'bind', peratom=True) #computes atomization energy devided by number of atoms:"
   ]
  },
  {
   "cell_type": "markdown",
   "metadata": {},
   "source": [
    "Good! We get about -6 $\\rm eV/atom$ which is roughly the expected covalent energy for these organic molecules. Remember most of the energy is stored in the covalent bonds."
   ]
  },
  {
   "cell_type": "markdown",
   "metadata": {
    "cell_id": "6e1b8f3b26c64c69982a15b403550fdb",
    "deepnote_cell_type": "markdown"
   },
   "source": [
    "# Fitting a Simple MACE Model"
   ]
  },
  {
   "cell_type": "markdown",
   "metadata": {
    "cell_id": "8f01c06f0fb34f24b2e83130b7e5a4b6",
    "deepnote_cell_type": "markdown"
   },
   "source": [
    "We will start by splitting the data into train and test sets the same as we did for GAP. In practice MACE extrapolates better than GAP, so we can get away with less data."
   ]
  },
  {
   "cell_type": "code",
   "execution_count": null,
   "metadata": {
    "cell_id": "ccb3270bdaab4f2490eb8d7d417a260c",
    "deepnote_cell_type": "code",
    "deepnote_to_be_reexecuted": false,
    "execution_millis": 4511,
    "execution_start": 1690385915880,
    "jupyter": {
     "source_hidden": true
    },
    "source_hash": null
   },
   "outputs": [],
   "source": [
    "from ase.io import read, write\n",
    "\n",
    "db = read('data/solvent_xtb.xyz', ':')\n",
    "\n",
    "#non-periodic data is handled correctly by MACE, so we do not need to change anything\n",
    "write('data/solvent_mace_train.xyz', db[:203])\n",
    "write('data/solvent_mace_test.xyz', db[203:403])"
   ]
  },
  {
   "cell_type": "markdown",
   "metadata": {
    "cell_id": "efb4e7559b24449d8ec15b35cf8ad561",
    "deepnote_cell_type": "markdown",
    "jp-MarkdownHeadingCollapsed": true
   },
   "source": [
    "#### Training files\n",
    "\n",
    "To train a MACE model, you will use the `run_train.py`command which takes the following arguments:\n",
    "\n",
    "First specify the name of your model and final log file using the `--name` flag.\n",
    "\n",
    "You can specify the training file with the `--train_file` flag. The validation set can either be specified as a separate file using the `--valid_file` keyword, or it can be specified as a fraction of the training set using the `--valid_fraction` keyword. The validation set is not used for optimizing the model but to estimate the model accuracy during training.\n",
    "\n",
    "It is also possible to provide a test set using the `--test_file` keyword. This set is entirely independent and only gets evaluated at the end of the training process.\n",
    "\n",
    "__________________\n",
    "\n",
    "#### Reference energies\n",
    "\n",
    "It is usually preferred to add the isolated atoms to the training set, rather than reading in their energies through the command line. MACE will automatically identify these atoms in the training set if they are labels correctly with `config_type=IsolatedAtom` in their `info` fields (we have done this yesterday when preparing the data). If you prefer not to use or do not know the energies of the isolated atoms, you can use the option `--E0s=\"average\"` which estimates the atomic energies by least squares regression.\n",
    "\n",
    "__________________\n",
    "\n",
    "\n",
    "#### Model\n",
    "\n",
    "##### The Messages\n",
    "\n",
    "To control the model size, you need to change `--hidden_irreps`. For most applications, the recommended default model size is `--hidden_irreps='256x0e'` (meaning 256 invariant messages) or `--hidden_irreps='128x0e + 128x1o'` (meaning 128 equivariant messages). If the model is not accurate enough, you can include higher order features, e.g., `128x0e + 128x1o + 128x2e`, or increase the number of channels to `256`. The number of message passing layers can be controled via the `--num_ineractions` parameter. **Increasing the model size and the number of layers will lead to more accurate but slower models.**\n",
    "\n",
    "##### Correlation order\n",
    "\n",
    "MACE uses a body order expansion on the site energy:\n",
    "\n",
    "$$\n",
    "E_{i} = E^{(0)}_{i} + \\sum_{j} E_{ij}^{(1)} + \\sum_{jk} E_{ijk}^{(2)} + ...\n",
    "$$\n",
    "\n",
    "The correlation order corresponds to the order that MACE induces at each layer. Choosing `--correlation=3` will create basis function of up to 4-body (ijke) indices, for each layer. Because of the multiple layers of MACE, the total correlation order is much higher. A two layers mace, with `--correlation=3` has a total body order of 13.\n",
    "\n",
    "##### Angular resolution\n",
    "\n",
    "The angular resolution describes how precise the model can identify angles. This is controled by `l_max`. The higher this integer, more precise is the angular resolution. Larger value will result in more accurate but slower models. The default is `l_max=3`.\n",
    "\n",
    "##### Cutoff radius\n",
    "\n",
    "The cutoff radius controls the locality of the model. A `--r_max=3.0` means that the model assumes atoms seperated by a distance of more than 3.0 A do not directly `communicate`. Because the model has two layers, atoms further than 3.0 A can still `communicate` by proxy. The actual receptive field of the model is the number of layers times the cutoff distance.\n",
    "\n",
    "__________________\n",
    "\n",
    "\n",
    "#### Data keys\n",
    "\n",
    "When parsing the data files the energies are read using the keyword `energy` and the forces using the keyword `forces`. To change that, specify the `--energy_key` and `--forces_key`.\n",
    "\n",
    "__________________\n",
    "\n",
    "\n",
    "#### Checkpoints\n",
    "\n",
    "Fitting this model will take about `12 mins`. You can continue the fitting from the last checkpoint by using the flag `--restart_latest`. The checkpoint saves the best model that currently has been trained. All checkpoints are saved in ./checkpoints folder. We can also continue from a restart when extending the dataset.\n",
    "\n",
    "__________________\n",
    "\n",
    "\n",
    "#### Training parameters\n",
    "\n",
    "These parameters are related to the training protocols: `--batch_size` represents the number of configs used to compute the gradients for each full update of all network parameters (stocastic gradient descent). The first `epoch` is completed when all the training data has been employed once in updating the weights and `--epochs` represents the number of such epochs. During training you will notice energy errors are at first much higher than force errors, MACE implements a special protocol that increases the weight on the energy in the loss function (`--swa_energy_weight`) once the forces are sufficiently accurate. The starting epoch for this special protocol can be controled by chaning `--start_swa`.\n",
    "\n",
    "#### Validation parameters\n",
    "\n",
    "The validation set controls the stopping of the training. At each `--eval_interval` the model is tested on the validation set. We also evaluate the set by batch size, controlled by `--valid_batch_size`. If the accuracy of the model stops improving on the validation set for `--patience` number of epochs. This is called **early stopping**.\n"
   ]
  },
  {
   "cell_type": "code",
   "execution_count": null,
   "metadata": {
    "cell_id": "b7d69e0612d146dd8c48b408ad4f59a5",
    "deepnote_cell_type": "code",
    "deepnote_to_be_reexecuted": false,
    "execution_millis": 956487,
    "execution_start": 1690385920385,
    "source_hash": null
   },
   "outputs": [],
   "source": [
    "!python3 ./mace/scripts/run_train.py \\\n",
    "    --name=\"model\" \\\n",
    "    --train_file=\"data/solvent_mace_train.xyz\" \\\n",
    "    --valid_fraction=0.05 \\\n",
    "    --test_file=\"maceTests/solvent_test.xyz\" \\\n",
    "    --E0s=\"isolated\" \\\n",
    "    --energy_key=\"energy\" \\\n",
    "    --forces_key=\"forces\" \\\n",
    "    --model=\"MACE\" \\\n",
    "    --num_interactions=2 \\\n",
    "    --max_ell=2 \\\n",
    "    --hidden_irreps=\"16x0e\" \\\n",
    "    --num_cutoff_basis=5 \\\n",
    "    --correlation=2 \\\n",
    "    --r_max=3.0 \\\n",
    "    --batch_size=5 \\\n",
    "    --valid_batch_size=5 \\\n",
    "    --eval_interval=1 \\\n",
    "    --max_num_epochs=50 \\\n",
    "    --start_swa=15 \\\n",
    "    --swa_energy_weight=1000 \\\n",
    "    --ema \\\n",
    "    --ema_decay=0.99 \\\n",
    "    --amsgrad \\\n",
    "    --error_table=\"PerAtomRMSE\" \\\n",
    "    --default_dtype=\"float32\" \\\n",
    "    --swa \\\n",
    "    --device=cuda \\\n",
    "    --seed=1234"
   ]
  },
  {
   "cell_type": "markdown",
   "metadata": {
    "cell_id": "01d2525548a64079b8c6247362360f3a",
    "deepnote_cell_type": "markdown"
   },
   "source": [
    "# Testing MACE vs XTB"
   ]
  },
  {
   "cell_type": "markdown",
   "metadata": {
    "cell_id": "9ecbfaac536f4a2bb121e337ca964f99",
    "deepnote_cell_type": "markdown"
   },
   "source": [
    "We will now evaluate the trained model on the test datasets. For this, we can use the eval_configs.py code. One needs to specify the file to evaluate in `--configs`. The path to the model is in `--model`. The `--output` specifies to path of the output file where the predicted energies and forces of MACE are stored. The `--default_dtype=\"float32\"`needs to match the one you used for training."
   ]
  },
  {
   "cell_type": "code",
   "execution_count": null,
   "metadata": {
    "cell_id": "f83aa3ea57d241d4adb6d8565648500e",
    "deepnote_cell_type": "code",
    "deepnote_to_be_reexecuted": false,
    "execution_millis": 30282,
    "execution_start": 1690386876771,
    "source_hash": null
   },
   "outputs": [],
   "source": [
    "#evaluate the train set\n",
    "\n",
    "!python3 ./mace/scripts/eval_configs.py \\\n",
    "    --configs=\"data/solvent_mace_train.xyz\" \\\n",
    "    --model=\"model_swa.model\" \\\n",
    "    --output=\"maceTests/solvent_train.xyz\" \\\n",
    "    --default_dtype=\"float32\" \\\n",
    "    --info_prefix=\"\"\n",
    "\n",
    "#evaluate the test set\n",
    "!python3 ./mace/scripts/eval_configs.py \\\n",
    "    --configs=\"data/solvent_mace_test.xyz\" \\\n",
    "    --model=\"model_swa.model\" \\\n",
    "    --output=\"maceTests/solvent_test.xyz\" \\\n",
    "    --default_dtype=\"float32\" \\\n",
    "    --info_prefix=\"\"\n",
    "\n",
    "#evaluate the volume scan\n",
    "!python3 ./mace/scripts/eval_configs.py \\\n",
    "    --configs=\"data/volumeScan.xyz\" \\\n",
    "    --model=\"model_swa.model\" \\\n",
    "    --output=\"maceTests/volumeScan.xyz\" \\\n",
    "    --default_dtype=\"float32\" \\\n",
    "    --info_prefix=\"\""
   ]
  },
  {
   "cell_type": "markdown",
   "metadata": {
    "cell_id": "9863af93365b4659a0fec0989ee10dff",
    "deepnote_cell_type": "markdown"
   },
   "source": [
    "We can compare MACE vs XTB accuracy on the train and test sets."
   ]
  },
  {
   "cell_type": "code",
   "execution_count": null,
   "metadata": {
    "cell_id": "79b6d4c1b7da48a0b3cfdb0fc1badd17",
    "deepnote_cell_type": "code",
    "deepnote_to_be_reexecuted": false,
    "execution_millis": 4173,
    "execution_start": 1690386907048,
    "source_hash": null
   },
   "outputs": [],
   "source": [
    "from aseMolec import pltProps as pp\n",
    "from ase.io import read\n",
    "import matplotlib.pyplot as plt\n",
    "from aseMolec import extAtoms as ea \n",
    "import numpy as np\n",
    "\n",
    "def plot_RMSEs(db1, db2, labs):\n",
    "    plt.figure(figsize=(8,4), dpi=100)\n",
    "    plt.subplot(1,2,1)\n",
    "    pp.plot_prop(ea.get_prop(db1, 'info', 'energy', True).flatten(), \\\n",
    "                 ea.get_prop(db2, 'info', 'energy', True).flatten(), \\\n",
    "                 title=r'Energy $(\\rm eV/atom)$ ', labs=labs, rel=True)\n",
    "    plt.subplot(1,2,2)\n",
    "    pp.plot_prop(np.concatenate(ea.get_prop(db1, 'arrays', 'forces')).flatten(), \\\n",
    "                 np.concatenate(ea.get_prop(db2, 'arrays', 'forces')).flatten(), \\\n",
    "                 title=r'Forces $\\rm (eV/\\AA)$ ', labs=labs, rel=True)\n",
    "    plt.tight_layout()\n",
    "    return\n",
    "\n",
    "plot_RMSEs(read('data/solvent_mace_test.xyz', ':'), read('maceTests/solvent_test.xyz', ':'), labs=['XTB', 'MACE'])"
   ]
  },
  {
   "cell_type": "markdown",
   "metadata": {
    "cell_id": "de7f02db063640f1ac3e94c90c8772c2",
    "deepnote_cell_type": "markdown"
   },
   "source": [
    "We can also check the Intra/Inter splits:"
   ]
  },
  {
   "cell_type": "code",
   "execution_count": null,
   "metadata": {
    "cell_id": "58506e689b5c487f91bfb60c2be0bd8f",
    "deepnote_cell_type": "code",
    "deepnote_to_be_reexecuted": false,
    "execution_millis": 6188,
    "execution_start": 1690386911122,
    "source_hash": null
   },
   "outputs": [],
   "source": [
    "from aseMolec import pltProps as pp\n",
    "from aseMolec import anaAtoms as aa\n",
    "\n",
    "db1 = read('data/solvent_mace_test.xyz', ':')\n",
    "db2 = read('maceTests/solvent_test.xyz', ':')\n",
    "\n",
    "aa.extract_molecs(db1, intra_inter=True)\n",
    "aa.extract_molecs(db2, intra_inter=True)\n",
    "\n",
    "pp.plot_trans_rot_vib(db1, db2, labs=['XTB', 'MACE'])\n",
    "\n",
    "#db1 = read('data/solvent_test.xyz', ':')\n",
    "#aa.extract_molecs(db1, intra_inter=True)\n",
    "#ea.check_keys(db1[:1])\n",
    "#db2 = read('gapTests/solvent_test.xyz', ':')\n",
    "#aa.extract_molecs(db2, intra_inter=True)\n",
    "\n",
    "#pp.plot_trans_rot_vib(db1, db2, labs=['XTB', 'GAP'])"
   ]
  },
  {
   "cell_type": "markdown",
   "metadata": {
    "cell_id": "e69c748a1ff34efb9d513bbfd0716c36",
    "deepnote_cell_type": "markdown"
   },
   "source": [
    "Again, MACE performs better. However, iner-molecular are still difficult to capture - as we expect."
   ]
  },
  {
   "cell_type": "code",
   "execution_count": null,
   "metadata": {
    "cell_id": "d5d94aea1dff40c191fd955579d49bfe",
    "deepnote_cell_type": "code",
    "deepnote_to_be_reexecuted": false,
    "execution_millis": 1052,
    "execution_start": 1690386917124,
    "source_hash": null
   },
   "outputs": [],
   "source": [
    "import numpy as np\n",
    "from matplotlib import pyplot as plt\n",
    "from aseMolec import extAtoms as ea\n",
    "\n",
    "def plot_vscan(vsname='volumeScan', vspaths=['data', 'maceTests']):\n",
    "    for i, vspath in enumerate(vspaths):\n",
    "        db = read(vspath+'/'+vsname+'.xyz', ':')\n",
    "        config = np.arange(len(db))\n",
    "        energy = ea.get_prop(db, 'info', 'energy', peratom=True)\n",
    "        plt.plot(config, energy, '.-', label=vspath, alpha=0.5)\n",
    "    plt.xlabel(r'Volume Scan Config')\n",
    "    plt.ylabel(r'Energy ($\\rm eV/atom$)')\n",
    "    plt.legend()\n",
    "    plt.title(vsname)\n",
    "    plt.tight_layout()\n",
    "\n",
    "plot_vscan()"
   ]
  },
  {
   "cell_type": "markdown",
   "metadata": {
    "cell_id": "696e83f03a294133a55d9f914226e333",
    "deepnote_cell_type": "markdown"
   },
   "source": [
    "The `volume scan` is still not perfect, but MACE is smoother! More data will be needed to get this right. "
   ]
  },
  {
   "cell_type": "markdown",
   "metadata": {
    "cell_id": "e7212170b1574fc3995aa2d51560a425",
    "deepnote_cell_type": "markdown"
   },
   "source": [
    "# Molecular Dynamics with MACE"
   ]
  },
  {
   "cell_type": "markdown",
   "metadata": {
    "cell_id": "f8db4a6a266c490681977db3f868e85e",
    "deepnote_cell_type": "markdown"
   },
   "source": [
    "MD is the ultimate test, let's check MACE stability. We will start by implementing a simple function to run Langevin dynamics. We will initialize the temperature at 300 K and remove all translations and rotations."
   ]
  },
  {
   "cell_type": "code",
   "execution_count": null,
   "metadata": {
    "cell_id": "0ee5f6a5559d43d5b5fa0bf9101b9170",
    "deepnote_cell_type": "code",
    "deepnote_to_be_reexecuted": false,
    "execution_millis": 130,
    "execution_start": 1690386918077,
    "source_hash": null
   },
   "outputs": [],
   "source": [
    "from ase.io import read, write\n",
    "from ase import units\n",
    "from ase.md.langevin import Langevin\n",
    "from ase.md.velocitydistribution import Stationary, ZeroRotation, MaxwellBoltzmannDistribution\n",
    "\n",
    "import random\n",
    "import os\n",
    "import time\n",
    "import numpy as np\n",
    "import pylab as pl\n",
    "from IPython import display\n",
    "\n",
    "def simpleMD(init_conf, temp, calc, fname, s, T):\n",
    "    init_conf.set_calculator(calc)\n",
    "\n",
    "    #initialize the temperature\n",
    "    random.seed(701) #just making sure the MD failure is reproducible\n",
    "    MaxwellBoltzmannDistribution(init_conf, temperature_K=300) #initialize temperature at 300\n",
    "    Stationary(init_conf)\n",
    "    ZeroRotation(init_conf)\n",
    "\n",
    "    dyn = Langevin(init_conf, 1.0*units.fs, temperature_K=temp, friction=0.1) #drive system to desired temperature\n",
    "\n",
    "    %matplotlib inline\n",
    "\n",
    "    time_fs = []\n",
    "    temperature = []\n",
    "    energies = []\n",
    "\n",
    "    #remove previously stored trajectory with the same name\n",
    "    os.system('rm -rfv '+fname)\n",
    "\n",
    "    fig, ax = pl.subplots(2, 1, figsize=(6,6), sharex='all', gridspec_kw={'hspace': 0, 'wspace': 0})\n",
    "\n",
    "    def write_frame():\n",
    "            dyn.atoms.write(fname, append=True)\n",
    "            time_fs.append(dyn.get_time()/units.fs)\n",
    "            temperature.append(dyn.atoms.get_temperature())\n",
    "            energies.append(dyn.atoms.get_potential_energy()/len(dyn.atoms))\n",
    "\n",
    "            ax[0].plot(np.array(time_fs), np.array(energies), color=\"b\")\n",
    "            ax[0].set_ylabel('E (eV/atom)')\n",
    "\n",
    "            # plot the temperature of the system as subplots\n",
    "            ax[1].plot(np.array(time_fs), temperature, color=\"r\")\n",
    "            ax[1].set_ylabel('T (K)')\n",
    "            ax[1].set_xlabel('Time (fs)')\n",
    "\n",
    "            display.clear_output(wait=True)\n",
    "            display.display(pl.gcf())\n",
    "            time.sleep(0.01)\n",
    "\n",
    "    dyn.attach(write_frame, interval=s)\n",
    "    t0 = time.time()\n",
    "    dyn.run(T)\n",
    "    t1 = time.time()\n",
    "    print(\"MD finished in {0:.2f} minutes!\".format((t1-t0)/60))"
   ]
  },
  {
   "cell_type": "markdown",
   "metadata": {
    "cell_id": "7068717a1421483da4fea5e05c53c495",
    "deepnote_cell_type": "markdown"
   },
   "source": [
    "## Compare MACE and XTB Dynamics"
   ]
  },
  {
   "cell_type": "markdown",
   "metadata": {
    "cell_id": "e73034e343594dbfb0991290c0668b3d",
    "deepnote_cell_type": "markdown"
   },
   "source": [
    "Now we can run MD with MACE. Let's try 2 picoseoncds starting from a single molecule config:"
   ]
  },
  {
   "cell_type": "code",
   "execution_count": null,
   "metadata": {
    "cell_id": "d8629178db814314a7aabb2a0bdd2487",
    "deepnote_cell_type": "code",
    "deepnote_to_be_reexecuted": false,
    "execution_millis": 516302,
    "execution_start": 1690386918208,
    "source_hash": null
   },
   "outputs": [],
   "source": [
    " #let us start with a single molecule\n",
    "init_conf = ea.sel_by_info_val(read('data/solvent_molecs.xyz',':'), 'Nmols', 1)[0].copy()\n",
    "\n",
    "#we can use MACE as a calculator in ASE!\n",
    "from mace.calculators import MACECalculator\n",
    "mace_calc = MACECalculator(model_paths=['model_swa.model'], device='cuda', default_dtype=\"float32\")\n",
    "\n",
    "\n",
    "simpleMD(init_conf, temp=1200, calc=mace_calc, fname='mace_md.xyz', s=10, T=2000)\n"
   ]
  },
  {
   "cell_type": "markdown",
   "metadata": {
    "cell_id": "0ddf1be382f64c4b98e105ab40c77054",
    "deepnote_cell_type": "markdown"
   },
   "source": [
    "For reference, we can also run XTB dynamics from the same starting configuration."
   ]
  },
  {
   "cell_type": "code",
   "execution_count": null,
   "metadata": {
    "allow_embed": false,
    "cell_id": "e3e0c02b2c9942ae88c8c228dbca471f",
    "deepnote_cell_type": "code",
    "deepnote_to_be_reexecuted": false,
    "execution_millis": 1369784,
    "execution_start": 1690388047354,
    "source_hash": null
   },
   "outputs": [],
   "source": [
    "# reinitialize the original config\n",
    "init_conf = ea.sel_by_info_val(read('data/solvent_molecs.xyz',':'), 'Nmols', 1)[0].copy()\n",
    "\n",
    "from xtb.ase.calculator import XTB\n",
    "xtb_calc = XTB(method=\"GFN2-xTB\")\n",
    "\n",
    "simpleMD(init_conf, temp=1200, calc=xtb_calc, fname='xtb_md.xyz', s=10, T=2000)"
   ]
  },
  {
   "cell_type": "markdown",
   "metadata": {
    "cell_id": "b5e16ad359e740ff82138976294bc9dc",
    "deepnote_cell_type": "markdown"
   },
   "source": [
    "Great the dynamics are pretty stable! Download the trajectory files `.xyz` and visualize them with your favourite software.\n",
    "\n",
    "Are the different dynamics sampling the correct distributions? Let us check the radial distribution functions (RDF). The [aseMolec](https://github.com/imagdau/aseMolec) package provides functionality to do that:"
   ]
  },
  {
   "cell_type": "code",
   "execution_count": null,
   "metadata": {
    "cell_id": "860874d8f7b64d08851ff489a42228eb",
    "deepnote_cell_type": "code",
    "deepnote_to_be_reexecuted": false,
    "execution_millis": 23493,
    "execution_start": 1690389417019,
    "source_hash": null
   },
   "outputs": [],
   "source": [
    "from aseMolec import anaAtoms as aa\n",
    "\n",
    "tag = 'HO_intra' #choose one of 'HH_intra', 'HC_intra', 'HO_intra', 'CC_intra', 'CO_intra', 'OO_intra'\n",
    "\n",
    "for f in ['xtb_md', 'mace_md']:\n",
    "    traj = read(f+'.xyz', ':')\n",
    "    for at in traj:\n",
    "        at.pbc = True\n",
    "        at.cell = [100,100,100]\n",
    "    rdf = aa.compute_rdfs_traj_avg(traj, rmax=5, nbins=50) #aseMolec provides functionality to compute RDFs\n",
    "    plt.plot(rdf[1], rdf[0][tag], label=f, alpha=0.7, linewidth=3)\n",
    "\n",
    "plt.legend();\n",
    "plt.yticks([]);\n",
    "plt.xlabel(r'R ($\\rm \\AA$)');\n",
    "plt.ylabel('RDF '+tag);"
   ]
  },
  {
   "cell_type": "markdown",
   "metadata": {
    "cell_id": "04cb8ae4ae644063bbf36dbc565e07b9",
    "deepnote_cell_type": "markdown"
   },
   "source": [
    "Try it yourself! Look at other RDF types, how well are they reproduced? The MACE model performes better than GAP.\n",
    "\n",
    "The trajectories here are pretty stable, but this is a pretty simple problem. We chose a single molecule at relatively small temperatures (for a molecule) and only ran for 2 picoseconds. In practice, given enough time and high enough temperature the initial models will fail.\n",
    "\n",
    "Experiment with the starting configs, temperatures, simulation length, see if you can find problems with the potentials!"
   ]
  },
  {
   "cell_type": "markdown",
   "metadata": {
    "cell_id": "6334ee06bcc24a8db4c5a87dfc2d7985",
    "deepnote_cell_type": "markdown"
   },
   "source": [
    "## The Molecular Liquid Condensed Phase"
   ]
  },
  {
   "cell_type": "markdown",
   "metadata": {
    "cell_id": "bc011009c8a845a7b48ad6f6c4570c39",
    "deepnote_cell_type": "markdown"
   },
   "source": [
    "The MLIP was trained on clusters, can we simulate the liquid molecular environment?"
   ]
  },
  {
   "cell_type": "code",
   "execution_count": null,
   "metadata": {
    "cell_id": "db474b39ce1c4ba1918219a52c749dd1",
    "deepnote_cell_type": "code",
    "deepnote_to_be_reexecuted": false,
    "execution_millis": 495641,
    "execution_start": 1690389440265,
    "source_hash": null
   },
   "outputs": [],
   "source": [
    "init_conf = read('data/ECEMC.xyz','4') #read a liquid config with periodic boundary conditions\n",
    "init_conf.center()\n",
    "\n",
    "simpleMD(init_conf, temp=500, calc=mace_calc, fname='liquid_md.xyz', s=10, T=2000)"
   ]
  },
  {
   "cell_type": "markdown",
   "metadata": {
    "cell_id": "bfa824eb023047b0ab1ce1d1754e1430",
    "deepnote_cell_type": "markdown"
   },
   "source": [
    "This XTB calculator is non-periodic, so this dynamics would not be possible without an MLIP! Check for yourself, by replacing the calculator with xtb. The system is much larger than the example before (12 molecules vs just one), check how GAP scales with size by replacing the calculator with gap.\n",
    "\n",
    "\n",
    "Transferability from clusters to the condensed phase environment is still an open research question. If this works, it implies that we might be able to learn on highly accuracte Quantum Chemistry methods on molecular clusters and make predictions (density, diffusivity) for the condensed phase! This is new Science!"
   ]
  }
 ],
 "metadata": {
  "deepnote": {
   "is_reactive": false
  },
  "deepnote_execution_queue": [],
  "deepnote_notebook_id": "2a16e1e8a7ad42a8825007f5cff15d19",
  "kernelspec": {
   "display_name": "Python 3 (ipykernel)",
   "language": "python",
   "name": "python3"
  },
  "language_info": {
   "codemirror_mode": {
    "name": "ipython",
    "version": 3
   },
   "file_extension": ".py",
   "mimetype": "text/x-python",
   "name": "python",
   "nbconvert_exporter": "python",
   "pygments_lexer": "ipython3",
   "version": "3.10.14"
  }
 },
 "nbformat": 4,
 "nbformat_minor": 4
}
