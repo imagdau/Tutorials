{
 "cells": [
  {
   "cell_type": "markdown",
   "id": "b9b8b2a3-70d5-42d2-bb28-51e034b48c75",
   "metadata": {},
   "source": [
    "$$\n",
    "h_{i,k00}^{(0)} = \\sum_z W_{kz} \\delta_{zzi}\n",
    "$$\n",
    "\n",
    "$$\n",
    "\\tilde{h}_{i,k_1l_2m_2}^{(s)} = \\sum_k W_{kk_1}^{(s)} h_{i,k_2l_2m_2}^{(s)}\n",
    "$$\n",
    "\n",
    "$$\n",
    "j_{0}^{n}(r_{ij}) = \\sqrt{\\frac{2}{r_{\\text{cut}}}} \\frac{\\sin \\left( \\pi n \\frac{r_{ij}}{r_{\\text{cut}}} \\right)}{r_{ij}} f_{\\text{cut}}(r_{ij})\n",
    "$$\n",
    "\n",
    "$$\n",
    "R_{k\\eta_1l_1l_2l_3}^{(s)}(r_{ij}) = \\text{MLP} \\left( \\left\\{ j_{0}^{n}(r_{ij}) \\right\\}_n \\right)\n",
    "$$\n",
    "\n",
    "$$\n",
    "\\phi_{ij,k\\eta_1l_3m_3}^{(s)} = \\sum_{l_1l_2m_1m_2} c_{l_3m_3}^{\\eta_1m_1l_1m_2} R_{k\\eta_1l_1l_2l_3}^{(s)}(r_{ij}) \\times Y_{l_1}^{m_1}(\\hat{r}_{ij}) \\tilde{h}_{j,k_2l_2m_2}^{(s)}\n",
    "$$\n",
    "\n",
    "$$\n",
    "A_{i,k_1l_3m_3}^{(s)} = \\sum_{\\tilde{k}\\eta1} W_{kk\\eta1}^{(s)} \\sum_{j \\in \\mathcal{N}(i)} \\phi_{ij,k\\eta_1l_3m_3}^{(s)}\n",
    "$$\n",
    "\n",
    "$$\n",
    "A_{i,klm}^{(s), \\nu} = \\prod_{\\xi=1}^{\\nu} A_{i,k\\xi lm2}^{(s)}\n",
    "$$\n",
    "\n",
    "$$\n",
    "B_{i,\\eta\\gamma kLM}^{(s), \\nu} = \\sum_{lm} C_{LM}^{\\nu lm} A_{i,klm}^{(s), \\nu}\n",
    "$$"
   ]
  },
  {
   "cell_type": "code",
   "execution_count": 2,
   "id": "f7f85001-a13e-4727-afae-11afd9fe39bc",
   "metadata": {},
   "outputs": [
    {
     "data": {
      "image/jpeg": "[encoded data removed]",
      "image/png": "[encoded data removed]",
      "text/plain": [
       "<PIL.PngImagePlugin.PngImageFile image mode=RGB size=300x300>"
      ]
     },
     "execution_count": 2,
     "metadata": {},
     "output_type": "execute_result"
    }
   ],
   "source": [
    "from rdkit import Chem\n",
    "from rdkit.Chem import Draw\n",
    "from rdkit.Chem import AllChem\n",
    "\n",
    "# Define the SMILES string\n",
    "smiles = 'CCO'  # Example: Ethanol\n",
    "\n",
    "# Create a molecule object from the SMILES string\n",
    "molecule = Chem.MolFromSmiles(smiles)\n",
    "\n",
    "# Add hydrogens to the molecule\n",
    "molecule = Chem.AddHs(molecule)\n",
    "\n",
    "# Generate 3D coordinates\n",
    "AllChem.EmbedMolecule(molecule, randomSeed=42)\n",
    "ff = AllChem.UFFOptimizeMolecule(molecule)\n",
    "\n",
    "# Display the molecule\n",
    "Draw.MolToImage(molecule)"
   ]
  },
  {
   "cell_type": "code",
   "execution_count": 3,
   "id": "16a4a320-3c2d-45ff-954e-1e116a601a0d",
   "metadata": {},
   "outputs": [
    {
     "data": {
      "application/vnd.jupyter.widget-view+json": {
       "model_id": "e5da8843e46e4819b807e1561d3d255f",
       "version_major": 2,
       "version_minor": 0
      },
      "text/plain": []
     },
     "metadata": {},
     "output_type": "display_data"
    },
    {
     "data": {
      "application/vnd.jupyter.widget-view+json": {
       "model_id": "2f1cd0b2c3754681b4ff232362bc7049",
       "version_major": 2,
       "version_minor": 0
      },
      "text/plain": [
       "NGLWidget()"
      ]
     },
     "metadata": {},
     "output_type": "display_data"
    }
   ],
   "source": [
    "from ase import Atoms\n",
    "import nglview as nv\n",
    "\n",
    "# Function to convert RDKit molecule to ASE Atoms object\n",
    "def rdkit_to_ase(molecule):\n",
    "    conformer = molecule.GetConformer()\n",
    "    symbols = [atom.GetSymbol() for atom in molecule.GetAtoms()]\n",
    "    positions = [conformer.GetAtomPosition(atom.GetIdx()) for atom in molecule.GetAtoms()]\n",
    "    positions = [(pos.x, pos.y, pos.z) for pos in positions]\n",
    "    ase_atoms = Atoms(symbols=symbols, positions=positions)\n",
    "    return ase_atoms\n",
    "\n",
    "at = rdkit_to_ase(molecule)\n",
    "view = nv.show_ase(at)\n",
    "view.add_representation('label', \n",
    "                        selection='*', \n",
    "                        labelType='atomindex', \n",
    "                        color='black',\n",
    "                        zOffset=1.0)\n",
    "view"
   ]
  },
  {
   "cell_type": "code",
   "execution_count": 4,
   "id": "bd41c0c3-5720-4ebc-a0ba-028a70ee8886",
   "metadata": {},
   "outputs": [
    {
     "data": {
      "text/plain": [
       "{'x': None,\n",
       " 'edge_index': tensor([[0, 0, 0, 0, 0, 0, 0, 0, 1, 1, 1, 1, 1, 1, 1, 1, 2, 2, 2, 2, 2, 2, 2, 3,\n",
       "          3, 3, 3, 3, 3, 3, 4, 4, 4, 4, 4, 4, 5, 5, 5, 5, 5, 5, 6, 6, 6, 6, 6, 6,\n",
       "          6, 7, 7, 7, 7, 7, 7, 7, 8, 8, 8, 8, 8, 8],\n",
       "         [1, 2, 3, 4, 5, 6, 7, 8, 0, 2, 3, 4, 5, 6, 7, 8, 0, 1, 3, 5, 6, 7, 8, 0,\n",
       "          1, 2, 4, 5, 6, 8, 0, 1, 3, 5, 6, 7, 0, 1, 2, 3, 4, 7, 0, 1, 2, 3, 4, 7,\n",
       "          8, 0, 1, 2, 4, 5, 6, 8, 0, 1, 2, 3, 6, 7]]),\n",
       " 'edge_attr': None,\n",
       " 'y': None,\n",
       " 'pos': None,\n",
       " 'normal': None,\n",
       " 'face': None,\n",
       " '__num_nodes__': 9,\n",
       " 'positions': tensor([[-0.9257,  0.0738,  0.0244],\n",
       "         [ 0.5132, -0.4192, -0.0683],\n",
       "         [ 1.3722,  0.4522,  0.6151],\n",
       "         [-1.0191,  1.0710, -0.4556],\n",
       "         [-1.5998, -0.6393, -0.4952],\n",
       "         [-1.2334,  0.1504,  1.0888],\n",
       "         [ 0.8161, -0.5095, -1.1362],\n",
       "         [ 0.5825, -1.4258,  0.3954],\n",
       "         [ 1.4939,  1.2463,  0.0317]]),\n",
       " 'shifts': tensor([[0., 0., 0.],\n",
       "         [0., 0., 0.],\n",
       "         [0., 0., 0.],\n",
       "         [0., 0., 0.],\n",
       "         [0., 0., 0.],\n",
       "         [0., 0., 0.],\n",
       "         [0., 0., 0.],\n",
       "         [0., 0., 0.],\n",
       "         [0., 0., 0.],\n",
       "         [0., 0., 0.],\n",
       "         [0., 0., 0.],\n",
       "         [0., 0., 0.],\n",
       "         [0., 0., 0.],\n",
       "         [0., 0., 0.],\n",
       "         [0., 0., 0.],\n",
       "         [0., 0., 0.],\n",
       "         [0., 0., 0.],\n",
       "         [0., 0., 0.],\n",
       "         [0., 0., 0.],\n",
       "         [0., 0., 0.],\n",
       "         [0., 0., 0.],\n",
       "         [0., 0., 0.],\n",
       "         [0., 0., 0.],\n",
       "         [0., 0., 0.],\n",
       "         [0., 0., 0.],\n",
       "         [0., 0., 0.],\n",
       "         [0., 0., 0.],\n",
       "         [0., 0., 0.],\n",
       "         [0., 0., 0.],\n",
       "         [0., 0., 0.],\n",
       "         [0., 0., 0.],\n",
       "         [0., 0., 0.],\n",
       "         [0., 0., 0.],\n",
       "         [0., 0., 0.],\n",
       "         [0., 0., 0.],\n",
       "         [0., 0., 0.],\n",
       "         [0., 0., 0.],\n",
       "         [0., 0., 0.],\n",
       "         [0., 0., 0.],\n",
       "         [0., 0., 0.],\n",
       "         [0., 0., 0.],\n",
       "         [0., 0., 0.],\n",
       "         [0., 0., 0.],\n",
       "         [0., 0., 0.],\n",
       "         [0., 0., 0.],\n",
       "         [0., 0., 0.],\n",
       "         [0., 0., 0.],\n",
       "         [0., 0., 0.],\n",
       "         [0., 0., 0.],\n",
       "         [0., 0., 0.],\n",
       "         [0., 0., 0.],\n",
       "         [0., 0., 0.],\n",
       "         [0., 0., 0.],\n",
       "         [0., 0., 0.],\n",
       "         [0., 0., 0.],\n",
       "         [0., 0., 0.],\n",
       "         [0., 0., 0.],\n",
       "         [0., 0., 0.],\n",
       "         [0., 0., 0.],\n",
       "         [0., 0., 0.],\n",
       "         [0., 0., 0.],\n",
       "         [0., 0., 0.]]),\n",
       " 'unit_shifts': tensor([[0., 0., 0.],\n",
       "         [0., 0., 0.],\n",
       "         [0., 0., 0.],\n",
       "         [0., 0., 0.],\n",
       "         [0., 0., 0.],\n",
       "         [0., 0., 0.],\n",
       "         [0., 0., 0.],\n",
       "         [0., 0., 0.],\n",
       "         [0., 0., 0.],\n",
       "         [0., 0., 0.],\n",
       "         [0., 0., 0.],\n",
       "         [0., 0., 0.],\n",
       "         [0., 0., 0.],\n",
       "         [0., 0., 0.],\n",
       "         [0., 0., 0.],\n",
       "         [0., 0., 0.],\n",
       "         [0., 0., 0.],\n",
       "         [0., 0., 0.],\n",
       "         [0., 0., 0.],\n",
       "         [0., 0., 0.],\n",
       "         [0., 0., 0.],\n",
       "         [0., 0., 0.],\n",
       "         [0., 0., 0.],\n",
       "         [0., 0., 0.],\n",
       "         [0., 0., 0.],\n",
       "         [0., 0., 0.],\n",
       "         [0., 0., 0.],\n",
       "         [0., 0., 0.],\n",
       "         [0., 0., 0.],\n",
       "         [0., 0., 0.],\n",
       "         [0., 0., 0.],\n",
       "         [0., 0., 0.],\n",
       "         [0., 0., 0.],\n",
       "         [0., 0., 0.],\n",
       "         [0., 0., 0.],\n",
       "         [0., 0., 0.],\n",
       "         [0., 0., 0.],\n",
       "         [0., 0., 0.],\n",
       "         [0., 0., 0.],\n",
       "         [0., 0., 0.],\n",
       "         [0., 0., 0.],\n",
       "         [0., 0., 0.],\n",
       "         [0., 0., 0.],\n",
       "         [0., 0., 0.],\n",
       "         [0., 0., 0.],\n",
       "         [0., 0., 0.],\n",
       "         [0., 0., 0.],\n",
       "         [0., 0., 0.],\n",
       "         [0., 0., 0.],\n",
       "         [0., 0., 0.],\n",
       "         [0., 0., 0.],\n",
       "         [0., 0., 0.],\n",
       "         [0., 0., 0.],\n",
       "         [0., 0., 0.],\n",
       "         [0., 0., 0.],\n",
       "         [0., 0., 0.],\n",
       "         [0., 0., 0.],\n",
       "         [0., 0., 0.],\n",
       "         [0., 0., 0.],\n",
       "         [0., 0., 0.],\n",
       "         [0., 0., 0.],\n",
       "         [0., 0., 0.]]),\n",
       " 'cell': tensor([[0., 0., 0.],\n",
       "         [0., 0., 0.],\n",
       "         [0., 0., 0.]]),\n",
       " 'node_attrs': tensor([[0., 1., 0.],\n",
       "         [0., 1., 0.],\n",
       "         [0., 0., 1.],\n",
       "         [1., 0., 0.],\n",
       "         [1., 0., 0.],\n",
       "         [1., 0., 0.],\n",
       "         [1., 0., 0.],\n",
       "         [1., 0., 0.],\n",
       "         [1., 0., 0.]]),\n",
       " 'weight': tensor(1.),\n",
       " 'energy_weight': tensor(1.),\n",
       " 'forces_weight': tensor(1.),\n",
       " 'stress_weight': tensor(1.),\n",
       " 'virials_weight': tensor(1.),\n",
       " 'forces': None,\n",
       " 'energy': None,\n",
       " 'stress': None,\n",
       " 'virials': None,\n",
       " 'dipole': None,\n",
       " 'charges': None}"
      ]
     },
     "execution_count": 4,
     "metadata": {},
     "output_type": "execute_result"
    }
   ],
   "source": [
    "from mace import data, tools\n",
    "\n",
    "Rcut = 3.0\n",
    "Nmax = 4\n",
    "\n",
    "\n",
    "z_table = tools.AtomicNumberTable([1, 6, 8])\n",
    "\n",
    "config = data.Configuration(\n",
    "    atomic_numbers=at.numbers,\n",
    "    positions=at.positions\n",
    ")\n",
    "\n",
    "data = data.AtomicData.from_config(config, z_table=z_table, cutoff=Rcut)\n",
    "data.__dict__"
   ]
  },
  {
   "cell_type": "code",
   "execution_count": 5,
   "id": "d3b14467-9df6-444d-9f35-f9cfd607614d",
   "metadata": {},
   "outputs": [],
   "source": [
    "from mace.modules.utils import get_edge_vectors_and_lengths\n",
    "\n",
    "vectors, lengths = get_edge_vectors_and_lengths(\n",
    "    positions=data[\"positions\"],\n",
    "    edge_index=data[\"edge_index\"],\n",
    "    shifts=data[\"shifts\"],\n",
    ")"
   ]
  },
  {
   "cell_type": "markdown",
   "id": "d9354c05-6eb9-4ea0-b940-e0cd8fba8ec3",
   "metadata": {},
   "source": [
    "## 1. Species embedding\n",
    "\n",
    "$$\n",
    "h_{i,k00}^{(0)} = \\sum_z W_{kz} \\delta_{zz_i}\n",
    "$$\n",
    "\n",
    "$$\n",
    "\\delta_{zz_i}\n",
    "$$\n"
   ]
  },
  {
   "cell_type": "code",
   "execution_count": 6,
   "id": "f8f04ce3-ffdd-43da-9d1f-a8f0cf26bd3a",
   "metadata": {},
   "outputs": [
    {
     "name": "stdout",
     "output_type": "stream",
     "text": [
      "tensor([[0., 1., 0.],\n",
      "        [0., 1., 0.],\n",
      "        [0., 0., 1.],\n",
      "        [1., 0., 0.],\n",
      "        [1., 0., 0.],\n",
      "        [1., 0., 0.],\n",
      "        [1., 0., 0.],\n",
      "        [1., 0., 0.],\n",
      "        [1., 0., 0.]])\n"
     ]
    }
   ],
   "source": [
    "import torch\n",
    "from mace import tools\n",
    "\n",
    "z_table = tools.get_atomic_number_table_from_zs(at.numbers)\n",
    "num_elements = len(z_table)\n",
    "\n",
    "indices = tools.utils.atomic_numbers_to_indices(at.numbers, z_table=z_table)\n",
    "indices_torch = torch.tensor(indices, dtype=torch.int64).unsqueeze(-1)\n",
    "node_attrs = tools.torch_tools.to_one_hot(indices_torch,num_classes=num_elements)\n",
    "\n",
    "print(node_attrs)"
   ]
  },
  {
   "cell_type": "code",
   "execution_count": 7,
   "id": "6fed08aa-cd5e-42df-9fbc-e4817269e79c",
   "metadata": {},
   "outputs": [],
   "source": [
    "# import torch\n",
    "# import torch.nn as nn\n",
    "\n",
    "# model = nn.Sequential()\n",
    "\n",
    "# model.add_module('W0', nn.Linear(8, 16))\n",
    "# model.add_module('tanh', nn.Tanh())\n",
    "# model.add_module('W1', nn.Linear(16, 1))\n",
    "\n",
    "# x = torch.randn(100, 8)\n",
    "# y = model(x)"
   ]
  },
  {
   "cell_type": "markdown",
   "id": "110d97a0-a34d-422f-9dc9-bff6a4f80a83",
   "metadata": {},
   "source": [
    "## 2. Radial Basis\n",
    "$$\n",
    "j_{0}^{n}(r_{ij}) = \\sqrt{\\frac{2}{r_{\\text{cut}}}} \\frac{\\sin \\left( \\pi n \\frac{r_{ij}}{r_{\\text{cut}}} \\right)}{r_{ij}} f_{\\text{cut}}(r_{ij})\n",
    "$$"
   ]
  },
  {
   "cell_type": "code",
   "execution_count": 7,
   "id": "b76a19f3-1034-489f-aa2d-de648ca803f8",
   "metadata": {},
   "outputs": [],
   "source": [
    "from mace.modules.blocks import BesselBasis\n",
    "\n",
    "bessel_fn = BesselBasis(r_max=Rcut, num_basis=Nmax)"
   ]
  },
  {
   "cell_type": "code",
   "execution_count": 8,
   "id": "917266db-9837-4ad8-a6be-2904f1137405",
   "metadata": {},
   "outputs": [],
   "source": [
    "radial = bessel_fn(lengths)"
   ]
  },
  {
   "cell_type": "code",
   "execution_count": 9,
   "id": "4ca0e632-6eb7-4bcf-ab7a-ba437a4de918",
   "metadata": {},
   "outputs": [
    {
     "name": "stderr",
     "output_type": "stream",
     "text": [
      "/opt/conda/lib/python3.10/site-packages/mace/modules/radial.py:50: RuntimeWarning: invalid value encountered in divide\n",
      "  return self.prefactor * (numerator / x)\n"
     ]
    },
    {
     "data": {
      "image/png": "[encoded data removed]",
      "text/plain": [
       "<Figure size 640x480 with 1 Axes>"
      ]
     },
     "metadata": {},
     "output_type": "display_data"
    }
   ],
   "source": [
    "import numpy as np\n",
    "from matplotlib import pyplot as plt\n",
    "\n",
    "dists = np.linspace(0,Rcut,20).reshape(-1,1)\n",
    "plt.plot(dists, bessel_fn(dists), '.-');"
   ]
  },
  {
   "cell_type": "code",
   "execution_count": null,
   "id": "d24c8240-c5c3-4933-8286-a560e08cfc26",
   "metadata": {},
   "outputs": [],
   "source": []
  }
 ],
 "metadata": {
  "kernelspec": {
   "display_name": "Python 3 (ipykernel)",
   "language": "python",
   "name": "python3"
  },
  "language_info": {
   "codemirror_mode": {
    "name": "ipython",
    "version": 3
   },
   "file_extension": ".py",
   "mimetype": "text/x-python",
   "name": "python",
   "nbconvert_exporter": "python",
   "pygments_lexer": "ipython3",
   "version": "3.10.14"
  }
 },
 "nbformat": 4,
 "nbformat_minor": 5
}
