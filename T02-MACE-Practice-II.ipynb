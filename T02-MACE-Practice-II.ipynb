{
 "cells": [
  {
   "cell_type": "code",
   "execution_count": null,
   "metadata": {},
   "outputs": [],
   "source": [
    "        !pip install xtb mace-torch nglview ipywidgets\n",
    "        !pip install git+https://github.com/imagdau/aseMolec@main"
   ]
  },
  {
   "cell_type": "markdown",
   "metadata": {
    "cell_id": "a40121600b3c467da428477bc8bf55e0",
    "deepnote_cell_type": "markdown"
   },
   "source": [
    "# MACE in Practice II"
   ]
  },
  {
   "cell_type": "markdown",
   "metadata": {
    "cell_id": "95057ab91ce54145b569a1b35cc81742",
    "deepnote_cell_type": "markdown",
    "tags": []
   },
   "source": [
    "In this tutorial, you will learn how to improve MLIP models by using iterative training and active learning. We illustrate these training workflows on MACE, but they are broadly applicable to all MLIPs. We will also showcase the state-of-the-art [foundational models](https://matbench-discovery.materialsproject.org/) - the latest development in the field of MLIPs. These models are trained on massive training sets of [inorganic](https://doi.org/10.48550/arXiv.2401.00096) and [organic](https://doi.org/10.48550/arXiv.2312.15211) databases and show a great deal of `out-of-the-box` MD stability in an extensive variety of [applications](https://doi.org/10.48550/arXiv.2401.00096). We will discuss [fine-tunning](https://doi.org/10.48550/arXiv.2405.20217) which is an actively-researched technique to tweak these foundational models to new systems (out of training) and/or new levels of reference theory.\n",
    "\n",
    "## Learning Objectives for today:\n",
    "\n",
    "1. **Iterative Training: improving stability and accuracy**\n",
    "2. **Active learning: committee models**\n",
    "3. **Foundational models and fine-tuning**"
   ]
  },
  {
   "cell_type": "markdown",
   "metadata": {
    "cell_id": "6334ee06bcc24a8db4c5a87dfc2d7985",
    "deepnote_cell_type": "markdown"
   },
   "source": [
    "## 1. Iterative Training"
   ]
  },
  {
   "cell_type": "markdown",
   "metadata": {},
   "source": [
    "### 1.1 MD with a smaller MACE model"
   ]
  },
  {
   "cell_type": "markdown",
   "metadata": {
    "cell_id": "bfa824eb023047b0ab1ce1d1754e1430",
    "deepnote_cell_type": "markdown"
   },
   "source": [
    "The model we trained in our previous tutorial was already stable in MD and quite accurate with little training. This is both because MACE models are smooth and regular (combining lessons from 10-15 years of MLIP development) but also because the task of simulating a single molecule for a few picoseconds is not all that difficult. In general, in real research applications, achieving MD stability and accuracy is not always straightforward from the get-go. Models can be improved through iterative training and active learning which expands the training data to fix errors on the model's potential energy surface. To illustrate these concepts in practice, let's first train a less accurate MACE by reducing the model size and amount of training data:"
   ]
  },
  {
   "cell_type": "code",
   "execution_count": null,
   "metadata": {},
   "outputs": [],
   "source": [
    "from ase.io import read, write\n",
    "db = read('data/solvent_xtb.xyz', ':')\n",
    "write('data/solvent_xtb_train_50.xyz', db[:53]) #first 50 configs plus the 3 E0s, we'll use only 20 of them for training!\n",
    "\n",
    "!mace_run_train \\\n",
    "    --model=\"MACE\" \\\n",
    "    --num_interactions=2 \\\n",
    "    --num_channels=16 \\\n",
    "    --max_L=0 \\\n",
    "    --correlation=2 \\\n",
    "    --r_max=4.0 \\\n",
    "    --max_ell=2 \\\n",
    "    --name=\"mace02_com1\" \\\n",
    "    --model_dir=\"MACE_models\" \\\n",
    "    --log_dir=\"MACE_models\" \\\n",
    "    --checkpoints_dir=\"MACE_models\" \\\n",
    "    --results_dir=\"MACE_models\" \\\n",
    "    --train_file=\"data/solvent_xtb_train_20.xyz\" \\\n",
    "    --valid_file=\"data/solvent_xtb_train_50.xyz\" \\\n",
    "    --test_file=\"data/solvent_xtb_test.xyz\" \\\n",
    "    --E0s=\"average\" \\\n",
    "    --energy_key=\"energy_xtb\" \\\n",
    "    --forces_key=\"forces_xtb\" \\\n",
    "    --device=cuda \\\n",
    "    --batch_size=10 \\\n",
    "    --max_num_epochs=300 \\\n",
    "    --swa \\\n",
    "    --seed=123\n",
    "\n",
    "#remove checkpoints since they may cause errors on retraining a model with the same name but a different architecture\n",
    "import glob\n",
    "import os\n",
    "for file in glob.glob(\"MACE_models/*_run-*.model\"):\n",
    "    os.remove(file)\n",
    "for file in glob.glob(\"MACE_models/*.pt\"):\n",
    "    os.remove(file)"
   ]
  },
  {
   "cell_type": "markdown",
   "metadata": {},
   "source": [
    "Notice, we are getting substantially larger errors than before. Now, let's run some dynamics:"
   ]
  },
  {
   "cell_type": "code",
   "execution_count": null,
   "metadata": {},
   "outputs": [],
   "source": [
    "from ase.io import read, write\n",
    "from ase import units\n",
    "from ase.md.langevin import Langevin\n",
    "from ase.md.velocitydistribution import Stationary, ZeroRotation, MaxwellBoltzmannDistribution\n",
    "from aseMolec import extAtoms as ea\n",
    "\n",
    "import os\n",
    "import time\n",
    "import numpy as np\n",
    "import pylab as pl\n",
    "from IPython import display\n",
    "np.random.seed(701) #just making sure the MD failure is reproducible\n",
    "\n",
    "def simpleMD(init_conf, temp, calc, fname, s, T):\n",
    "    init_conf.set_calculator(calc)\n",
    "\n",
    "    #initialize the temperature\n",
    "    \n",
    "    MaxwellBoltzmannDistribution(init_conf, temperature_K=300) #initialize temperature at 300\n",
    "    Stationary(init_conf)\n",
    "    ZeroRotation(init_conf)\n",
    "\n",
    "    dyn = Langevin(init_conf, 1.0*units.fs, temperature_K=temp, friction=0.1) #drive system to desired temperature\n",
    "\n",
    "    %matplotlib inline\n",
    "\n",
    "    time_fs = []\n",
    "    temperature = []\n",
    "    energies = []\n",
    "\n",
    "    #remove previously stored trajectory with the same name\n",
    "    os.system('rm -rfv '+fname)\n",
    "\n",
    "    fig, ax = pl.subplots(2, 1, figsize=(6,6), sharex='all', gridspec_kw={'hspace': 0, 'wspace': 0})\n",
    "\n",
    "    def write_frame():\n",
    "            dyn.atoms.info['energy_mace'] = dyn.atoms.get_potential_energy()\n",
    "            dyn.atoms.arrays['force_mace'] = dyn.atoms.calc.get_forces()\n",
    "            dyn.atoms.write(fname, append=True)\n",
    "            time_fs.append(dyn.get_time()/units.fs)\n",
    "            temperature.append(dyn.atoms.get_temperature())\n",
    "            energies.append(dyn.atoms.get_potential_energy()/len(dyn.atoms))\n",
    "\n",
    "            ax[0].plot(np.array(time_fs), np.array(energies), color=\"b\")\n",
    "            ax[0].set_ylabel('E (eV/atom)')\n",
    "\n",
    "            # plot the temperature of the system as subplots\n",
    "            ax[1].plot(np.array(time_fs), temperature, color=\"r\")\n",
    "            ax[1].set_ylabel('T (K)')\n",
    "            ax[1].set_xlabel('Time (fs)')\n",
    "\n",
    "            display.clear_output(wait=True)\n",
    "            display.display(pl.gcf())\n",
    "            time.sleep(0.01)\n",
    "\n",
    "    dyn.attach(write_frame, interval=s)\n",
    "    t0 = time.time()\n",
    "    dyn.run(T)\n",
    "    t1 = time.time()\n",
    "    print(\"MD finished in {0:.2f} minutes!\".format((t1-t0)/60))\n",
    "\n",
    "#let us start with a single molecule\n",
    "init_conf = ea.sel_by_info_val(read('data/solvent_molecs.xyz',':'), 'Nmols', 1)[0].copy()\n",
    "\n",
    "#we can use MACE as a calculator in ASE!\n",
    "from mace.calculators import MACECalculator\n",
    "mace_calc = MACECalculator(model_paths=['MACE_models/mace02_com1_swa_compiled.model'], device='cuda')\n",
    "\n",
    "simpleMD(init_conf, temp=1200, calc=mace_calc, fname='moldyn/mace02_md.xyz', s=10, T=2000)"
   ]
  },
  {
   "cell_type": "markdown",
   "metadata": {},
   "source": [
    "Depending on the random seed for the MD, you may see different things. At first sight, the energy against time doesn't look too bad, although the long time scale wandering of the energy is a little weird. Lets look at the trajectory."
   ]
  },
  {
   "cell_type": "code",
   "execution_count": null,
   "metadata": {},
   "outputs": [],
   "source": [
    "from ase.io import read, write\n",
    "import nglview as nv\n",
    "\n",
    "traj = read('moldyn/mace02_md.xyz', ':')\n",
    "view = nv.show_asetraj(traj)\n",
    "view._set_size(w='100%', h='500px')\n",
    "view"
   ]
  },
  {
   "cell_type": "markdown",
   "metadata": {},
   "source": [
    "If you go to the end of the trajectory, you should find that the bond angles are actually very strange - it looks unphsyical."
   ]
  },
  {
   "cell_type": "markdown",
   "metadata": {},
   "source": [
    "### 1.2 Identify the problem and expand training\n",
    "\n",
    "Something doesn't look right with the hydrogen atoms. Let's re-evaluate the first 100 steps from the trajectory on the reference XTB potential energy surface and then plot it against MACE energy."
   ]
  },
  {
   "cell_type": "code",
   "execution_count": null,
   "metadata": {},
   "outputs": [],
   "source": [
    "from ase.io import read, write\n",
    "from tqdm import tqdm\n",
    "from xtb.ase.calculator import XTB\n",
    "xtb_calc = XTB(method=\"GFN2-xTB\")\n",
    "\n",
    "#compute true reference XTB values\n",
    "traj = read('moldyn/mace02_md.xyz', ':')\n",
    "for at in tqdm(traj[:100]):\n",
    "    at.calc = None\n",
    "    at.calc = xtb_calc\n",
    "    at.info['energy_xtb'] = at.get_potential_energy()\n",
    "    at.arrays['forces_xtb'] = at.get_forces()\n",
    "    at.calc = None\n",
    "\n",
    "write('data/mace02_md_100_xtb.xyz', traj[:100]) #save full result"
   ]
  },
  {
   "cell_type": "code",
   "execution_count": null,
   "metadata": {},
   "outputs": [],
   "source": [
    "import numpy as np\n",
    "from aseMolec import extAtoms as ea\n",
    "from matplotlib import pyplot as plt\n",
    "\n",
    "traj = read('data/mace02_md_100_xtb.xyz', ':')\n",
    "plt.plot(np.arange(len(traj)), ea.get_prop(traj, 'info', 'energy_xtb', peratom=True), label='XTB')\n",
    "plt.plot(np.arange(len(traj)), ea.get_prop(traj, 'info', 'energy_mace', peratom=True), label='MACE')\n",
    "plt.legend()\n",
    "plt.xlabel('Time (fs)')\n",
    "plt.ylabel('Total Energy per Atom (eV)')"
   ]
  },
  {
   "cell_type": "markdown",
   "metadata": {},
   "source": [
    "Indeed, at around frame 40 the XTB energy diverges, because MACE finds an unphysical config. With older potentials, at this point the MD would explode, but because MACE is much smoother the simulation keeps going, albeit generating the wrong dynamics. Let's take three of these failed configs, add them back to the training set and refit a new model. This is called iterative training:\n",
    "![alt text](figures/iterative_training.png)"
   ]
  },
  {
   "cell_type": "code",
   "execution_count": null,
   "metadata": {},
   "outputs": [],
   "source": [
    "db = read('data/solvent_xtb_train_20.xyz', ':')\n",
    "db += traj[40:100:20] #add three failed configs to the training set\n",
    "write('data/solvent_xtb_train_23_gen1.xyz', db)"
   ]
  },
  {
   "cell_type": "markdown",
   "metadata": {},
   "source": [
    "### 1.3 Train a new MACE model and run MD again"
   ]
  },
  {
   "cell_type": "code",
   "execution_count": null,
   "metadata": {},
   "outputs": [],
   "source": [
    "!mace_run_train \\\n",
    "    --model=\"MACE\" \\\n",
    "    --num_interactions=2 \\\n",
    "    --num_channels=16 \\\n",
    "    --max_L=0 \\\n",
    "    --correlation=2 \\\n",
    "    --r_max=4.0 \\\n",
    "    --max_ell=2 \\\n",
    "    --name=\"mace02_com1_gen1\" \\\n",
    "    --model_dir=\"MACE_models\" \\\n",
    "    --log_dir=\"MACE_models\" \\\n",
    "    --checkpoints_dir=\"MACE_models\" \\\n",
    "    --results_dir=\"MACE_models\" \\\n",
    "    --train_file=\"data/solvent_xtb_train_23_gen1.xyz\" \\\n",
    "    --valid_file=\"data/solvent_xtb_train_50.xyz\" \\\n",
    "    --test_file=\"data/solvent_xtb_test.xyz\" \\\n",
    "    --E0s=\"average\" \\\n",
    "    --energy_key=\"energy_xtb\" \\\n",
    "    --forces_key=\"forces_xtb\" \\\n",
    "    --device=cuda \\\n",
    "    --batch_size=10 \\\n",
    "    --max_num_epochs=300 \\\n",
    "    --swa \\\n",
    "    --seed=123\n",
    "\n",
    "#remove checkpoints since they may cause errors on retraining a model with the same name but a different architecture\n",
    "import glob\n",
    "import os\n",
    "for file in glob.glob(\"MACE_models/*_run-*.model\"):\n",
    "    os.remove(file)\n",
    "for file in glob.glob(\"MACE_models/*.pt\"):\n",
    "    os.remove(file)"
   ]
  },
  {
   "cell_type": "markdown",
   "metadata": {},
   "source": [
    "For some reason the energy error on the training set is now huge - can you work out why this is?\n",
    "\n",
    "What does this imply about how we do iterative training?"
   ]
  },
  {
   "cell_type": "code",
   "execution_count": null,
   "metadata": {},
   "outputs": [],
   "source": [
    "mace_calc = MACECalculator(model_paths=['MACE_models/mace02_com1_gen1_swa_compiled.model'], device='cuda')\n",
    "init_conf = ea.sel_by_info_val(read('data/solvent_molecs.xyz',':'), 'Nmols', 1)[0].copy()\n",
    "simpleMD(init_conf, temp=1200, calc=mace_calc, fname='moldyn/mace02_md_gen1.xyz', s=10, T=2000)"
   ]
  },
  {
   "cell_type": "code",
   "execution_count": null,
   "metadata": {},
   "outputs": [],
   "source": [
    "traj = read('moldyn/mace02_md_gen1.xyz', ':')\n",
    "view = nv.show_asetraj(traj)\n",
    "view._set_size(w='100%', h='500px')\n",
    "view"
   ]
  },
  {
   "cell_type": "markdown",
   "metadata": {},
   "source": [
    "Great! The dynamics is already looking better, however its hard to tell if it is really correct. To do this we cuold look at the radial distribution function compared to a ground truth trajectory, but if the ground truth is too expensive its not so easy.\n",
    "\n",
    "If we have reason to believe the model is wrong, we could continue the iterative process and gradually improve the potential. This is an arduous process, because we need to carefully investigate the trajectories and decide which configs to add back to training. We could instead automate this protocol by predicting errors on the fly and picking configs which are not well predicted: this is called active learning."
   ]
  },
  {
   "cell_type": "markdown",
   "metadata": {
    "cell_id": "a00c92d61afc4adcb493f1cc7b2ee3a6",
    "deepnote_cell_type": "markdown"
   },
   "source": [
    "## 2. Active Learning with MACE"
   ]
  },
  {
   "cell_type": "markdown",
   "metadata": {},
   "source": [
    "### 2.1 Preparing a committee of models"
   ]
  },
  {
   "cell_type": "markdown",
   "metadata": {
    "cell_id": "588eeeda5dc94c76841aba2af1c4f90a",
    "deepnote_cell_type": "markdown"
   },
   "source": [
    "We can compute errors by evaluating the reference energy and forces (in our case XTB) and computing the difference to MACE predictions. In real research applications, this can be very expensive to evaluate depending on the referneece level of theory. Alternatively, we can estimate errors based on a committee of models. Let's train a committee of MACE models by adding some randomness to the optimization process. We can achieve this by changing the `--seed`. We already have a model, we will fit two more, on the same data:"
   ]
  },
  {
   "cell_type": "code",
   "execution_count": null,
   "metadata": {},
   "outputs": [],
   "source": [
    "!mace_run_train \\\n",
    "    --model=\"MACE\" \\\n",
    "    --num_interactions=2 \\\n",
    "    --num_channels=16 \\\n",
    "    --max_L=0 \\\n",
    "    --correlation=2 \\\n",
    "    --r_max=4.0 \\\n",
    "    --max_ell=2 \\\n",
    "    --name=\"mace02_com2\" \\\n",
    "    --model_dir=\"MACE_models\" \\\n",
    "    --log_dir=\"MACE_models\" \\\n",
    "    --checkpoints_dir=\"MACE_models\" \\\n",
    "    --results_dir=\"MACE_models\" \\\n",
    "    --train_file=\"data/solvent_xtb_train_50.xyz\" \\\n",
    "    --valid_fraction=0.60 \\\n",
    "    --test_file=\"data/solvent_xtb_test.xyz\" \\\n",
    "    --E0s=\"average\" \\\n",
    "    --energy_key=\"energy_xtb\" \\\n",
    "    --forces_key=\"forces_xtb\" \\\n",
    "    --device=cuda \\\n",
    "    --batch_size=10 \\\n",
    "    --max_num_epochs=300 \\\n",
    "    --swa \\\n",
    "    --seed=345\n",
    "\n",
    "!mace_run_train \\\n",
    "    --model=\"MACE\" \\\n",
    "    --num_interactions=2 \\\n",
    "    --num_channels=16 \\\n",
    "    --max_L=0 \\\n",
    "    --correlation=2 \\\n",
    "    --r_max=4.0 \\\n",
    "    --max_ell=2 \\\n",
    "    --name=\"mace02_com3\" \\\n",
    "    --model_dir=\"MACE_models\" \\\n",
    "    --log_dir=\"MACE_models\" \\\n",
    "    --checkpoints_dir=\"MACE_models\" \\\n",
    "    --results_dir=\"MACE_models\" \\\n",
    "    --train_file=\"data/solvent_xtb_train_50.xyz\" \\\n",
    "    --valid_fraction=0.60 \\\n",
    "    --test_file=\"data/solvent_xtb_test.xyz\" \\\n",
    "    --E0s=\"average\" \\\n",
    "    --energy_key=\"energy_xtb\" \\\n",
    "    --forces_key=\"forces_xtb\" \\\n",
    "    --device=cuda \\\n",
    "    --batch_size=10 \\\n",
    "    --max_num_epochs=300 \\\n",
    "    --swa \\\n",
    "    --seed=567\n",
    "\n",
    "#remove checkpoints since they may cause errors on retraining a model with the same name but a different architecture\n",
    "import glob\n",
    "import os\n",
    "for file in glob.glob(\"MACE_models/*_run-*.model\"):\n",
    "    os.remove(file)\n",
    "for file in glob.glob(\"MACE_models/*.pt\"):\n",
    "    os.remove(file)"
   ]
  },
  {
   "cell_type": "markdown",
   "metadata": {},
   "source": [
    "Perfect, we have two new models. Let's start by testing the commitee on the first 100 frames of the first trajectory we generated. The `MACECalculator` can conveniently take a list of calculators as input and will compute separate energies from each calculator. "
   ]
  },
  {
   "cell_type": "code",
   "execution_count": null,
   "metadata": {},
   "outputs": [],
   "source": [
    "import numpy as np\n",
    "from ase.io import read\n",
    "from aseMolec import extAtoms as ea\n",
    "from matplotlib import pyplot as plt\n",
    "from mace.calculators import MACECalculator\n",
    "\n",
    "model_paths = ['MACE_models/mace02_com1_swa_compiled.model',\n",
    "               'MACE_models/mace02_com2_swa_compiled.model',\n",
    "               'MACE_models/mace02_com3_swa_compiled.model']\n",
    "mace_calcs = MACECalculator(model_paths=model_paths, device='cpu')\n",
    "\n",
    "traj = read('data/mace02_md_100_xtb.xyz', ':')\n",
    "for at in traj:\n",
    "    at.calc = mace_calcs\n",
    "    engs = at.get_potential_energies()\n",
    "    at.info['energy_mace_1'] = at.info.pop('energy_mace') #rename value obtained with first member of the committee\n",
    "    at.info['energy_mace_2'] = engs[1]\n",
    "    at.info['energy_mace_3'] = engs[2]\n",
    "    at.info['variance'] = np.std(engs)\n",
    "    at.info['average_mace_energy'] = np.average(engs)\n",
    "    at.info['true_error'] = np.abs(at.info['average_mace_energy'] - at.info['energy_xtb'])\n",
    "    \n",
    "#Let's check the energies of the MACE committee vs XTB energy\n",
    "plt.plot(np.arange(len(traj)), ea.get_prop(traj, 'info', 'energy_xtb', peratom=True), label='XTB')\n",
    "plt.plot(np.arange(len(traj)), ea.get_prop(traj, 'info', 'energy_mace_1', peratom=True), label='MACE_1')\n",
    "plt.plot(np.arange(len(traj)), ea.get_prop(traj, 'info', 'energy_mace_2', peratom=True), label='MACE_2')\n",
    "plt.plot(np.arange(len(traj)), ea.get_prop(traj, 'info', 'energy_mace_3', peratom=True), label='MACE_3')\n",
    "plt.legend()\n",
    "plt.xlabel('Time (fs)')\n",
    "plt.ylabel('Energy per Atom (eV)')\n",
    "plt.show()\n",
    "\n",
    "\n",
    "#plt.plot(np.arange(len(traj)), ea.get_prop(traj, 'info', 'variance', peratom=True), label='committee variance')\n",
    "#plt.plot(np.arange(len(traj)), ea.get_prop(traj, 'info', 'true_error', peratom=True), label='error w.r.t XTB')\n",
    "\n",
    "fig, ax1 = plt.subplots()\n",
    "ax2 = ax1.twinx()\n",
    "ax1.plot(np.arange(len(traj)), ea.get_prop(traj, 'info', 'variance', peratom=True), label='committee variance', color='tab:blue')\n",
    "#ax2.plot(np.arange(len(traj)), ea.get_prop(traj, 'info', 'true_error', peratom=True), label='error w.r.t XTB', color='tab:orange')\n",
    "\n",
    "ax1.set_xlabel('time (fs)')\n",
    "ax1.set_ylabel('committee energy variance', color='tab:blue')\n",
    "#ax2.set_ylabel('error w.r.t XTB', color='tab:orange')\n",
    "\n",
    "plt.show()"
   ]
  },
  {
   "cell_type": "markdown",
   "metadata": {
    "cell_id": "ec2e91aa94044d14aeadea824b5fecbe",
    "deepnote_cell_type": "markdown"
   },
   "source": [
    "Notice how the variance (disagreement between models) increases around the same config where the true error with respect to XTB diverges. This is good news because it indicates the variance is a good proxy for true error.\n",
    "\n",
    "Now we can run dynamics with a commitee of models and monitor the variance in the energy prediction. Because XTB is cheap enough we can also compare that variance with the true error. Do they correlate?"
   ]
  },
  {
   "cell_type": "markdown",
   "metadata": {},
   "source": [
    "### 2.2 Running MD with the MACE committee"
   ]
  },
  {
   "cell_type": "code",
   "execution_count": null,
   "metadata": {
    "cell_id": "763720f0e2ed4ea7a27db276507b4fa9",
    "deepnote_cell_type": "code",
    "deepnote_to_be_reexecuted": false,
    "execution_millis": 741598,
    "execution_start": 1690390325607,
    "source_hash": null
   },
   "outputs": [],
   "source": [
    "from aseMolec import extAtoms as ea\n",
    "from ase import units\n",
    "from ase.md.langevin import Langevin\n",
    "from ase.md.velocitydistribution import Stationary, ZeroRotation, MaxwellBoltzmannDistribution\n",
    "from ase.io import read, write\n",
    "\n",
    "import random\n",
    "import numpy as np\n",
    "import time\n",
    "import pylab as pl\n",
    "from IPython import display\n",
    "\n",
    "from mace.calculators import MACECalculator\n",
    "from xtb.ase.calculator import XTB\n",
    "\n",
    "model_paths = ['MACE_models/mace02_com1_swa_compiled.model',\n",
    "               'MACE_models/mace02_com2_swa_compiled.model',\n",
    "               'MACE_models/mace02_com3_swa_compiled.model']\n",
    "xtb_calc = XTB(method=\"GFN2-xTB\")\n",
    "mace_calc = MACECalculator(model_paths=model_paths, device='cpu')\n",
    "\n",
    "init_conf = ea.sel_by_info_val(read('data/solvent_molecs.xyz',':'), 'Nmols', 1)[0].copy()\n",
    "init_conf.calc = mace_calc\n",
    "\n",
    "#initialize the temperature\n",
    "np.random.seed(701)\n",
    "MaxwellBoltzmannDistribution(init_conf, temperature_K=300)\n",
    "Stationary(init_conf)\n",
    "ZeroRotation(init_conf)\n",
    "\n",
    "dyn = Langevin(init_conf, 1*units.fs, temperature_K=1200, friction=0.1)\n",
    "\n",
    "%matplotlib inline\n",
    "\n",
    "time_fs = []\n",
    "temperature = []\n",
    "energies_1 = []\n",
    "energies_2 = []\n",
    "energies_3 = []\n",
    "variances = []\n",
    "xtb_energies = []\n",
    "true_errors = []\n",
    "\n",
    "!rm -rfv moldyn/mace02_md_committee.xyz\n",
    "fig, ax = pl.subplots(4, 1, figsize=(8,8), sharex='all', gridspec_kw={'hspace': 0, 'wspace': 0})\n",
    "\n",
    "\n",
    "def write_frame():\n",
    "        at = dyn.atoms.copy()\n",
    "        at.calc = xtb_calc\n",
    "        xtb_energy = at.get_potential_energy()\n",
    "\n",
    "        dyn.atoms.write('moldyn/mace02_md_committee.xyz', append=True, write_results=False)\n",
    "        time_fs.append(dyn.get_time()/units.fs)\n",
    "        temperature.append(dyn.atoms.get_temperature())\n",
    "        energies_1.append(dyn.atoms.calc.results[\"energies\"][0]/len(dyn.atoms))\n",
    "        energies_2.append(dyn.atoms.calc.results[\"energies\"][1]/len(dyn.atoms))\n",
    "        energies_3.append(dyn.atoms.calc.results[\"energies\"][2]/len(dyn.atoms))\n",
    "        variances.append(dyn.atoms.calc.results[\"energy_var\"]/len(dyn.atoms))\n",
    "        xtb_energies.append(xtb_energy/len(dyn.atoms))\n",
    "        true_errors.append(np.var([dyn.atoms.calc.results[\"energy\"],xtb_energy])/len(dyn.atoms))\n",
    "\n",
    "        # plot the true error\n",
    "        ax[0].plot(np.array(time_fs), np.array(true_errors), color=\"black\")\n",
    "        ax[0].set_ylabel(r'$\\Delta$ E (eV$^2$/atom)')\n",
    "        ax[0].legend(['Error w.r.t. XTB'], loc='upper left')\n",
    "\n",
    "        # plot committee variance\n",
    "        ax[1].plot(np.array(time_fs), np.array(variances), color=\"y\")\n",
    "        ax[1].set_ylabel(r'committee variance')\n",
    "        ax[1].legend(['Estimated Error (committee variances)'], loc='upper left')\n",
    "\n",
    "        # plot the temperature of the system as subplots\n",
    "        ax[2].plot(np.array(time_fs), temperature, color=\"r\", label='Temperature')\n",
    "        ax[2].set_ylabel(\"T (K)\")\n",
    "\n",
    "        ax[3].plot(np.array(time_fs), energies_1, color=\"g\")\n",
    "        ax[3].plot(np.array(time_fs), energies_2, color=\"y\")\n",
    "        ax[3].plot(np.array(time_fs), energies_3, color=\"olive\")\n",
    "        ax[3].plot(np.array(time_fs), xtb_energies, color=\"black\")\n",
    "        ax[3].set_ylabel(\"E (eV/atom)\")\n",
    "        ax[3].set_xlabel('Time (fs)')\n",
    "        ax[3].legend(['E mace1', 'E mace2', 'E mace3', 'E xtb'], loc='upper left')\n",
    "\n",
    "        display.clear_output(wait=True)\n",
    "        display.display(fig)\n",
    "        time.sleep(0.01)\n",
    "\n",
    "dyn.attach(write_frame, interval=10)\n",
    "dyn.run(2000)\n",
    "print(\"MD finished!\")"
   ]
  },
  {
   "cell_type": "markdown",
   "metadata": {},
   "source": [
    "NOTE: if you get the error `xtb could not evalute the config` that means the dynamics went so crazy and gave such strange configurations, that xtb refused to run! thats to be expected if the model is really bad. Copy some of the code above to have a look at the trajectory if you'd like to see this. \n",
    "\n",
    "Closely observe the dynamics. Notice how good the committee error is as a proxy for the true error. In this case the true is cheap to compute, but in most practical applications it won't be. Therefore, we will need to rely on the committee error to identy configurations that should be added back to the training set. This is called active learning:"
   ]
  },
  {
   "cell_type": "markdown",
   "metadata": {},
   "source": [
    "![alt text](figures/active_learning.png)"
   ]
  },
  {
   "cell_type": "markdown",
   "metadata": {},
   "source": [
    "### Active learning in practice\n",
    "\n",
    "The way to use active learning to improve the model is as follows:\n",
    "1. run dynmics, track the uncertainty.\n",
    "2. if the uncertainty breaches some predeterined value, stop the simulation and peform the ground truth calculation.\n",
    "3. and the new config to the dataset, and retrain\n",
    "4. repeat steps 1-3 until the uncertainty never crosses the threshold\n",
    "\n",
    "This can be done without human supervision - you can write a program which loops this process. \n",
    "\n",
    "As an exercise at the end of the notebook, try writing an active learing loop to gradually grow the dataset and produce a good model, without ever running XTB dynamics. "
   ]
  },
  {
   "cell_type": "markdown",
   "metadata": {},
   "source": [
    "## 3 Foundational Models"
   ]
  },
  {
   "cell_type": "markdown",
   "metadata": {},
   "source": [
    "### 3.1 Molecular Dynamics with MACE-MP-0"
   ]
  },
  {
   "cell_type": "markdown",
   "metadata": {},
   "source": [
    "Foundation models changed everything. MACE-MP-0 is a model trained on >1 million DFT calcuations, and can run dynamics for the whole periodic table. \n",
    "\n",
    "Mace provides a simple interface to load a foundational model, which we can use mow. Check the [documentation](https://mace-docs.readthedocs.io/en/latest/guide/foundation_models.html) for more details."
   ]
  },
  {
   "cell_type": "code",
   "execution_count": null,
   "metadata": {},
   "outputs": [],
   "source": [
    "from mace.calculators import mace_mp\n",
    "\n",
    "macemp = mace_mp(model=\"small\")\n",
    "init_conf = ea.sel_by_info_val(read('data/solvent_molecs.xyz',':'), 'Nmols', 1)[0].copy()\n",
    "simpleMD(init_conf, temp=1200, calc=macemp, fname='moldyn/mace03_md.xyz', s=10, T=2000)"
   ]
  },
  {
   "cell_type": "markdown",
   "metadata": {},
   "source": [
    "OMG, look at that dynamics! Stable out-of-the-box, sign me up! Let's view the trajectory:"
   ]
  },
  {
   "cell_type": "code",
   "execution_count": null,
   "metadata": {},
   "outputs": [],
   "source": [
    "from ase.io import read, write\n",
    "import nglview as nv\n",
    "\n",
    "traj = read('moldyn/mace03_md.xyz', ':')\n",
    "view = nv.show_asetraj(traj)\n",
    "view._set_size(w='100%', h='500px')\n",
    "view"
   ]
  },
  {
   "cell_type": "markdown",
   "metadata": {},
   "source": [
    "### 3.2 Compare to XTB"
   ]
  },
  {
   "cell_type": "markdown",
   "metadata": {},
   "source": [
    "Let's compute the radial distribution functions of this very stable trajectory and compare them to XTB. Remember MACE-MP was trained on PBE level of theory so we don't necessarily expect them to match:"
   ]
  },
  {
   "cell_type": "code",
   "execution_count": null,
   "metadata": {},
   "outputs": [],
   "source": [
    "from matplotlib import pyplot as plt\n",
    "from aseMolec import anaAtoms as aa\n",
    "\n",
    "tag = 'OO_intra' #choose one of 'HH_intra', 'HC_intra', 'HO_intra', 'CC_intra', 'CO_intra', 'OO_intra'\n",
    "\n",
    "for f in ['xtb_md', 'mace03_md']:\n",
    "    traj = read('moldyn/'+f+'.xyz', '50:') #ignore first 50 frames\n",
    "    for at in traj:\n",
    "        at.pbc = True #create a fake box for rdf compatibility\n",
    "        at.cell = [100,100,100]\n",
    "    rdf = aa.compute_rdfs_traj_avg(traj, rmax=5, nbins=70) #aseMolec provides functionality to compute RDFs\n",
    "    plt.plot(rdf[1], rdf[0][tag], '.-', label=f, alpha=0.7, linewidth=3)\n",
    "\n",
    "plt.legend();\n",
    "plt.yticks([]);\n",
    "plt.xlabel(r'R ($\\rm \\AA$)');\n",
    "plt.ylabel('RDF '+tag);"
   ]
  },
  {
   "cell_type": "markdown",
   "metadata": {},
   "source": [
    "Notice there's a slight shift in the O-O RDF peak. This is likely due to the different level of reference theory. Can we fix by fine tuning MACE-MP-0?\n",
    "\n",
    "Depending on your application, the PBE reference using in MACE-MP-0 may not be appropriate. It is probably better than XTB, but thats because for this notebook we are using XTB since it is extremely fast, so we can check the model's true error very easily. \n",
    "\n",
    "In practice, you might want to run dynamics of this small molecule at the MP2 or coupled cluster level (which is the 'gold standard' of molecular quantum chemistry). In that case, you would want to finetune MACE-MP-0 onto a small amount of very expensive couple cluster data."
   ]
  },
  {
   "cell_type": "markdown",
   "metadata": {},
   "source": [
    "### 3.3 Fine tune MACE-MP to XTB"
   ]
  },
  {
   "cell_type": "code",
   "execution_count": null,
   "metadata": {},
   "outputs": [],
   "source": [
    "!mace_run_train \\\n",
    "    --name=\"finetuned_MACE\" \\\n",
    "    --foundation_model=\"small\" \\\n",
    "    --train_file=\"data/solvent_xtb_train_50.xyz\" \\\n",
    "    --valid_fraction=0.60 \\\n",
    "    --test_file=\"data/solvent_xtb_test.xyz\" \\\n",
    "    --energy_weight=1.0 \\\n",
    "    --forces_weight=1.0 \\\n",
    "    --E0s=\"average\" \\\n",
    "    --energy_key=\"energy_xtb\" \\\n",
    "    --forces_key=\"forces_xtb\" \\\n",
    "    --lr=0.01 \\\n",
    "    --scaling=\"rms_forces_scaling\" \\\n",
    "    --batch_size=10 \\\n",
    "    --max_num_epochs=50 \\\n",
    "    --ema \\\n",
    "    --ema_decay=0.99 \\\n",
    "    --amsgrad \\\n",
    "    --default_dtype=\"float64\" \\\n",
    "    --device=cuda \\\n",
    "    --seed=3"
   ]
  },
  {
   "cell_type": "code",
   "execution_count": null,
   "metadata": {},
   "outputs": [],
   "source": [
    "mace_calc = MACECalculator(model_paths=['finetuned_MACE_compiled.model'], device='cuda')\n",
    "\n",
    "init_conf = ea.sel_by_info_val(read('data/solvent_molecs.xyz',':'), 'Nmols', 1)[0].copy()\n",
    "simpleMD(init_conf, temp=1200, calc=mace_calc, fname='moldyn/mace_finetuned_md.xyz', s=10, T=2000)"
   ]
  },
  {
   "cell_type": "code",
   "execution_count": null,
   "metadata": {},
   "outputs": [],
   "source": [
    "from matplotlib import pyplot as plt\n",
    "from aseMolec import anaAtoms as aa\n",
    "\n",
    "tag = 'OO_intra' # 'OO_intra' #choose one of 'HH_intra', 'HC_intra', 'HO_intra', 'CC_intra', 'CO_intra', 'OO_intra'\n",
    "\n",
    "for f in ['xtb_md', 'mace_finetuned_md']:\n",
    "    traj = read('moldyn/'+f+'.xyz', '50:') #ignore first 50 frames\n",
    "    for at in traj:\n",
    "        at.pbc = True #create a fake box for rdf compatibility\n",
    "        at.cell = [100,100,100]\n",
    "    rdf = aa.compute_rdfs_traj_avg(traj, rmax=5, nbins=70) #aseMolec provides functionality to compute RDFs\n",
    "    plt.plot(rdf[1], rdf[0][tag], '.-', label=f, alpha=0.7, linewidth=3)\n",
    "\n",
    "plt.legend();\n",
    "plt.yticks([]);\n",
    "plt.xlabel(r'R ($\\rm \\AA$)');\n",
    "plt.ylabel('RDF '+tag);"
   ]
  },
  {
   "cell_type": "code",
   "execution_count": null,
   "metadata": {},
   "outputs": [],
   "source": [
    "from ase.io import read, write\n",
    "import nglview as nv\n",
    "\n",
    "traj = read('moldyn/mace_finetuned_md.xyz', ':')\n",
    "view = nv.show_asetraj(traj)\n",
    "view._set_size(w='100%', h='500px')\n",
    "view"
   ]
  },
  {
   "cell_type": "markdown",
   "metadata": {},
   "source": [
    "What are the results - does it work?\n",
    "\n",
    "Consider comparing more than one of the rdfs, and looking at how the MP0-model did (as we saw above) vs the finetuned version."
   ]
  },
  {
   "cell_type": "code",
   "execution_count": null,
   "metadata": {
    "editable": true,
    "slideshow": {
     "slide_type": ""
    },
    "tags": []
   },
   "outputs": [],
   "source": []
  },
  {
   "cell_type": "code",
   "execution_count": null,
   "metadata": {},
   "outputs": [],
   "source": []
  },
  {
   "cell_type": "code",
   "execution_count": null,
   "metadata": {},
   "outputs": [],
   "source": []
  }
 ],
 "metadata": {
  "deepnote": {
   "is_reactive": false
  },
  "deepnote_execution_queue": [],
  "deepnote_notebook_id": "2a16e1e8a7ad42a8825007f5cff15d19",
  "kernelspec": {
   "display_name": "Python 3 (ipykernel)",
   "language": "python",
   "name": "python3"
  },
  "language_info": {
   "codemirror_mode": {
    "name": "ipython",
    "version": 3
   },
   "file_extension": ".py",
   "mimetype": "text/x-python",
   "name": "python",
   "nbconvert_exporter": "python",
   "pygments_lexer": "ipython3",
   "version": "3.10.14"
  }
 },
 "nbformat": 4,
 "nbformat_minor": 4
}
