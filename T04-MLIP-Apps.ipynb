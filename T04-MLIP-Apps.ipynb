{
 "cells": [
  {
   "cell_type": "markdown",
   "id": "1",
   "metadata": {},
   "source": [
    "# Nudge Elastic bands for lithium iron phosphate\n",
    "\n",
    "The foundation potentials (called universal by some) provide an easy way to use MLIPs. In this tutorial we will see how well some of these models perform against each other and against the published DFT literature.\n",
    "\n",
    "A top chart of main MLIPs is available\n",
    "\n",
    "https://matbench-discovery.materialsproject.org/\n",
    "\n",
    "References:\n",
    "\n",
    "1. https://pubs.rsc.org/en/content/articlelanding/2011/ee/c1ee01782a\n",
    "2. https://doi.org/10.1103/PhysRevApplied.7.034007\n",
    "3. https://arxiv.org/abs/2401.00096\n",
    "4. https://arxiv.org/abs/2402.03789\n",
    "\n",
    "As a task we will determine the activation energies of Li diffusion along the [010] and [001] directions (or Paths b and c how we call them here) in lithium iron phosphate (LiFePO_4) a cathode material for lithium ion batteries.   \n",
    "   \n",
    "DFT references energies are: barrier heights: path b = 0.27 eV and path c = 2.5 eV. (see table 1 in https://doi.org/10.1039/C5TA05062F)\n",
    "\n",
    "We will try CHGNet, M3GNET and MACE(you can try small, medium and large variants). We start with a fully working example with CHGnet. Once you worked your way through the netbook and gain some understanding of the mechanics, duplicate the notebook and change it to use your new MLIP.\n",
    "\n",
    "**HINT** to change the MLIP change the bits of code containing\n",
    "\n",
    "```python\n",
    "sp = SinglePoint(\n",
    "    struct=LFPO.copy(),\n",
    "    architecture=\"chgnet\",\n",
    "    device='cuda',\n",
    ")\n",
    "```\n",
    "\n",
    "to \n",
    "\n",
    "```python\n",
    "sp = SinglePoint(\n",
    "    struct=LFPO.copy(),\n",
    "    architecture=\"mace_mp\",\n",
    "    device='cuda',\n",
    "    calc_kwargs={'model_paths':'small','default_dtype':'float64'}\n",
    ")\n",
    "```\n",
    "for MACE_MP small\n",
    "\n",
    "or to \n",
    "\n",
    "```python\n",
    "sp = SinglePoint(\n",
    "    struct=LFPO.copy(),\n",
    "    architecture=\"m3gnet\",\n",
    "    device='cuda',\n",
    ")\n",
    "```\n",
    "for M3GNET\n",
    "\n",
    "\n",
    "this notebook is slightly altered and simplified from https://github.com/materialsvirtuallab/matcalc/blob/main/examples/LiFePO4-NEB.ipynb\n",
    "\n",
    "codes used\n",
    "- ASE: https://gitlab.com/ase/ase\n",
    "- pymatgen: https://github.com/materialsproject/pymatgen\n",
    "- janus-core: https://github.com/stfc/janus-core"
   ]
  },
  {
   "cell_type": "code",
   "execution_count": null,
   "id": "2",
   "metadata": {},
   "outputs": [],
   "source": [
    "#packages needed\n",
    "\n",
    "from ase.io import read,write\n",
    "from janus_core.calculations.single_point import SinglePoint\n",
    "from janus_core.calculations.geom_opt import optimize\n",
    "from ase.mep import NEB, NEBTools\n",
    "\n",
    "from ase.optimize import LBFGS,BFGS\n",
    "from pymatgen.io.ase import AseAtomsAdaptor\n",
    "from itertools import chain\n",
    "\n",
    "from pymatgen.core import PeriodicSite, Structure\n",
    "\n",
    "from ase.visualize import view"
   ]
  },
  {
   "cell_type": "markdown",
   "id": "3",
   "metadata": {},
   "source": [
    "# Prepare NEB end structures\n"
   ]
  },
  {
   "cell_type": "markdown",
   "id": "4",
   "metadata": {},
   "source": [
    "## Initial structures\n",
    "\n",
    "intial structure can be downloaded from materials project, mp-19017, here we we provide the initial structure, the supercell path b and c end structures for convenience.\n"
   ]
  },
  {
   "cell_type": "code",
   "execution_count": null,
   "id": "5",
   "metadata": {},
   "outputs": [],
   "source": [
    "LFPO = read(\"data/LiFePO4_supercell.cif\")\n",
    "view(LFPO,viewer='ngl')"
   ]
  },
  {
   "cell_type": "markdown",
   "id": "6",
   "metadata": {},
   "source": [
    "## Relax supercell"
   ]
  },
  {
   "cell_type": "code",
   "execution_count": null,
   "id": "8",
   "metadata": {},
   "outputs": [],
   "source": [
    "# setup a single point\n",
    "sp = SinglePoint(\n",
    "    struct=LFPO.copy(),\n",
    "    architecture=\"chgnet\",\n",
    "    device='cuda')\n",
    "relaxed_LFPO = optimize(\n",
    "    struct=sp.struct,\n",
    "    fmax=0.01)\n",
    "view(relaxed_LFPO,viewer='ngl')\n"
   ]
  },
  {
   "cell_type": "markdown",
   "id": "9",
   "metadata": {},
   "source": [
    "## Create NEB start, end structures -- b and c directions\n"
   ]
  },
  {
   "cell_type": "code",
   "execution_count": null,
   "id": "10",
   "metadata": {},
   "outputs": [],
   "source": [
    "# for end b remove site 11 \n",
    "# for end c remove site 4\n",
    "# for start bc remove site 5\n",
    "# NEB path along b and c directions have the same starting image.\n",
    "\n",
    "LFPO_end_b = relaxed_LFPO.copy()\n",
    "del LFPO_end_b[11]\n",
    "\n",
    "sp_end_b = SinglePoint(\n",
    "    struct=LFPO_end_b.copy(),\n",
    "    architecture=\"chgnet\",\n",
    "    device='cuda',\n",
    ")\n",
    "relaxed_end_b_LFPO = optimize(\n",
    "    struct=sp_end_b.struct,\n",
    "    fmax=0.01,\n",
    "    filter_func=None,\n",
    ")\n",
    "view(relaxed_end_b_LFPO,viewer='ngl')\n"
   ]
  },
  {
   "cell_type": "code",
   "execution_count": null,
   "id": "39d057e2",
   "metadata": {},
   "outputs": [],
   "source": [
    "LFPO_end_c = relaxed_LFPO.copy()\n",
    "del LFPO_end_c[4]\n",
    "\n",
    "sp_end_c = SinglePoint(\n",
    "    struct=LFPO_end_c.copy(),\n",
    "    architecture=\"chgnet\",\n",
    "    device='cuda',\n",
    ")\n",
    "relaxed_end_c_LFPO = optimize(\n",
    "    struct=sp_end_c.struct,\n",
    "    fmax=0.01,\n",
    "    filter_func=None,\n",
    ")\n",
    "view(relaxed_end_b_LFPO,viewer=\"ngl\")\n"
   ]
  },
  {
   "cell_type": "code",
   "execution_count": null,
   "id": "e562bd7f",
   "metadata": {},
   "outputs": [],
   "source": [
    "LFPO_start_bc = relaxed_LFPO.copy()\n",
    "del LFPO_start_bc[5]\n",
    "sp_start_bc = SinglePoint(\n",
    "    struct=LFPO_start_bc.copy(),\n",
    "    architecture=\"chgnet\",\n",
    "    device='cuda')\n",
    "relaxed_start_bc_LFPO = optimize(\n",
    "    struct=sp_start_bc.struct,\n",
    "    fmax=0.01,\n",
    "    filter_func=None,\n",
    ")\n",
    "\n",
    "view(relaxed_start_bc_LFPO,viewer=\"ngl\")"
   ]
  },
  {
   "cell_type": "markdown",
   "id": "d721de7a-3975-4f09-9d30-9bd9ffb38c39",
   "metadata": {},
   "source": [
    "# Calculate NEB path and barriers"
   ]
  },
  {
   "cell_type": "markdown",
   "id": "25fbd424-caca-44a6-84e6-ced6609b4d48",
   "metadata": {},
   "source": [
    "## Path b"
   ]
  },
  {
   "cell_type": "code",
   "execution_count": null,
   "id": "579d17c7",
   "metadata": {},
   "outputs": [],
   "source": [
    "nimages = 7\n",
    "\n",
    "start = AseAtomsAdaptor.get_structure(relaxed_start_bc_LFPO)\n",
    "end_b = AseAtomsAdaptor.get_structure(relaxed_end_b_LFPO)\n",
    "images_p = start.interpolate(end_b, nimages=nimages+1, pbc=False, interpolate_lattices=False, autosort_tol=0.5)\n",
    "images_b = [ p.to_ase_atoms() for p in images_p]\n",
    "\n",
    "# Set calculators:\n",
    "for image in images_b:\n",
    "    sp = SinglePoint(\n",
    "        struct=image,\n",
    "        architecture=\"chgnet\",\n",
    "        device='cuda')\n",
    "neb_b = NEB(images_b,climb=True,allow_shared_calculator=True)\n",
    "\n",
    "# do the neb ptimize:\n",
    "opt = BFGS(neb_b, trajectory='neb_b.traj')\n",
    "opt.run(fmax=0.05)\n",
    "\n",
    "#view the final path\n",
    "nebtools_b = NEBTools(images_b)\n",
    "\n",
    "# Get the calculated barrier and the energy change of the reaction.\n",
    "Ef, dE = nebtools_b.get_barrier()\n",
    "\n",
    "# Get the barrier without any interpolation between highest images.\n",
    "Ef, dE = nebtools_b.get_barrier(fit=False)\n",
    "\n",
    "# Get the actual maximum force at this point in the simulation.\n",
    "max_force = nebtools_b.get_fmax()\n",
    "\n",
    "# Create a figure like that coming from ASE-GUI.\n",
    "fig_b = nebtools_b.plot_band()\n",
    "\n",
    "view(images_b, viewer=\"ngl\")"
   ]
  },
  {
   "cell_type": "markdown",
   "id": "f3f9466b-2194-4e22-ba57-9fc0e13845df",
   "metadata": {},
   "source": [
    "## Path c"
   ]
  },
  {
   "cell_type": "code",
   "execution_count": null,
   "id": "4e0a3652",
   "metadata": {},
   "outputs": [],
   "source": [
    "end_c = AseAtomsAdaptor.get_structure(relaxed_end_c_LFPO)\n",
    "images_p = start.interpolate(end_c, nimages=nimages+1, pbc=False, interpolate_lattices=False, autosort_tol=0.5)\n",
    "images_c = [ p.to_ase_atoms() for p in images_p]\n",
    "\n",
    "# Set calculators:\n",
    "for image in images_c:\n",
    "    sp = SinglePoint(\n",
    "        struct=image,\n",
    "        architecture=\"chgnet\",\n",
    "        device='cuda')\n",
    "#    print(sp.run()['energy']) \n",
    "neb_c = NEB(images_c,climb=True,allow_shared_calculator=True)\n",
    "# do the nebptimize:\n",
    "opt = BFGS(neb_c, trajectory='neb_c.traj')\n",
    "opt.run(fmax=0.05)\n",
    "\n",
    "#view the final path\n",
    "nebtools_c = NEBTools(images_c)\n",
    "\n",
    "# Get the calculated barrier and the energy change of the reaction.\n",
    "Ef, dE = nebtools_c.get_barrier()\n",
    "\n",
    "# Get the barrier without any interpolation between highest images.\n",
    "Ef, dE = nebtools_c.get_barrier(fit=False)\n",
    "\n",
    "# Get the actual maximum force at this point in the simulation.\n",
    "max_force = nebtools_c.get_fmax()\n",
    "\n",
    "# Create a figure like that coming from ASE-GUI.\n",
    "fig_c = nebtools_c.plot_band()\n",
    "\n",
    "view(images_c,viewer=\"ngl\")"
   ]
  },
  {
   "cell_type": "markdown",
   "id": "16",
   "metadata": {},
   "source": [
    "# View NEB path in one snapshot"
   ]
  },
  {
   "cell_type": "code",
   "execution_count": null,
   "id": "17",
   "metadata": {},
   "outputs": [],
   "source": [
    "def generate_snapshot(images: list):\n",
    "    \"\"\"Generate a snapshot from images and return an ase atoms.\"\"\"\n",
    "    image_structs = list(map(AseAtomsAdaptor().get_structure, images))\n",
    "    sites = set()\n",
    "    lattice = image_structs[0].lattice\n",
    "    for site in chain(*(struct for struct in image_structs)):\n",
    "        sites.add(PeriodicSite(site.species, site.frac_coords, lattice))\n",
    "    neb_path = Structure.from_sites(sorted(sites))\n",
    "    return neb_path.to_ase_atoms()"
   ]
  },
  {
   "cell_type": "code",
   "execution_count": null,
   "id": "18",
   "metadata": {},
   "outputs": [],
   "source": [
    "# view compressed path b in one snapshot\n",
    "view(generate_snapshot(images_b),viewer=\"ngl\")"
   ]
  },
  {
   "cell_type": "code",
   "execution_count": null,
   "id": "b49b1dc8-356b-4313-98a3-a5101d8fe374",
   "metadata": {},
   "outputs": [],
   "source": [
    "# view compressed path c in one snapshot\n",
    "view(generate_snapshot(images_c),viewer=\"ngl\")"
   ]
  }
 ],
 "metadata": {
  "kernelspec": {
   "display_name": "Python 3 (ipykernel)",
   "language": "python",
   "name": "python3"
  },
  "language_info": {
   "codemirror_mode": {
    "name": "ipython",
    "version": 3
   },
   "file_extension": ".py",
   "mimetype": "text/x-python",
   "name": "python",
   "nbconvert_exporter": "python",
   "pygments_lexer": "ipython3",
   "version": "3.10.14"
  },
  "toc": {
   "base_numbering": 1,
   "nav_menu": {},
   "number_sections": true,
   "sideBar": true,
   "skip_h1_title": false,
   "title_cell": "Table of Contents",
   "title_sidebar": "Contents",
   "toc_cell": true,
   "toc_position": {},
   "toc_section_display": true,
   "toc_window_display": false
  }
 },
 "nbformat": 4,
 "nbformat_minor": 5
}
